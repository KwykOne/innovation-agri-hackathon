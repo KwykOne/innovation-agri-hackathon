{
 "cells": [
  {
   "cell_type": "code",
   "execution_count": 11,
   "metadata": {},
   "outputs": [],
   "source": [
    "import requests"
   ]
  },
  {
   "cell_type": "code",
   "execution_count": 4,
   "metadata": {},
   "outputs": [
    {
     "data": {
      "text/plain": [
       "{'cluster_name': 'elasticsearch_awin',\n",
       " 'status': 'yellow',\n",
       " 'timed_out': False,\n",
       " 'number_of_nodes': 1,\n",
       " 'number_of_data_nodes': 1,\n",
       " 'active_primary_shards': 15,\n",
       " 'active_shards': 15,\n",
       " 'relocating_shards': 0,\n",
       " 'initializing_shards': 0,\n",
       " 'unassigned_shards': 12,\n",
       " 'delayed_unassigned_shards': 0,\n",
       " 'number_of_pending_tasks': 0,\n",
       " 'number_of_in_flight_fetch': 0,\n",
       " 'task_max_waiting_in_queue_millis': 0,\n",
       " 'active_shards_percent_as_number': 55.55555555555556}"
      ]
     },
     "execution_count": 4,
     "metadata": {},
     "output_type": "execute_result"
    }
   ],
   "source": [
    "\n",
    "requests.get('http://localhost:9200/_cluster/health').json()"
   ]
  },
  {
   "cell_type": "code",
   "execution_count": 12,
   "metadata": {},
   "outputs": [
    {
     "name": "stdout",
     "output_type": "stream",
     "text": [
      "yellow open student_projects        OpujzOWARX-CXLRezB_VMQ 1 1     0  0   208b   208b\n",
      "yellow open employee_experiences    cxY4-cpvQ-6v6CwxcwEIyQ 1 1     0  0   208b   208b\n",
      "yellow open form25_entries          Dm1qYFomTriW8RohdoBJZQ 1 1     0  0   208b   208b\n",
      "yellow open sponsored_personnals    COcW8ugCTw2EYRGlimdHJg 1 1     0  0   208b   208b\n",
      "yellow open employee_courses        gD1ZhOe8R6uO-qZi1c9ktQ 1 1     0  0   208b   208b\n",
      "yellow open research_associates     t3S7VTjmQI2J9oZWLpWCVg 1 1     0  0   208b   208b\n",
      "yellow open farm-products           eD3BxGB5Sf6PteG2nxLVyg 1 1 12304  0 16.9mb 16.9mb\n",
      "yellow open employee_qualifications duQji9X2Q0qMuyJzwL2tvw 1 1     0  0   208b   208b\n",
      "green  open .geoip_databases        caHlFwHKRHeGBw4y9x-GKA 1 0    40 40   38mb   38mb\n",
      "yellow open form4_entries           GYFWauLSSGK0R61aaPkDLA 1 1     0  0   208b   208b\n",
      "yellow open form27_entries          ZLk7ouz3S0mvWZFbyXy7Og 1 1     0  0   208b   208b\n",
      "yellow open form20_lectures         pD_7oOkoT-G0S9AN0MNZ-A 1 1     0  0   208b   208b\n",
      "yellow open employee_details        7ZpVYb5yQwKyoLALbITX-A 1 1     1  0  4.4kb  4.4kb\n",
      "yellow open test-farm-inputs        87jstZTISWevqDwd3FN0Hg 1 1     3  0  5.5kb  5.5kb\n",
      "yellow open publications            gDzfTmEVRb2zqPiJuPfJRQ 1 1     0  0   208b   208b\n",
      "\n"
     ]
    }
   ],
   "source": [
    "print(requests.get('http://localhost:9200/_cat/indices').text)\n"
   ]
  }
 ],
 "metadata": {
  "kernelspec": {
   "display_name": "Python 3.9.9 ('venv': venv)",
   "language": "python",
   "name": "python3"
  },
  "language_info": {
   "codemirror_mode": {
    "name": "ipython",
    "version": 3
   },
   "file_extension": ".py",
   "mimetype": "text/x-python",
   "name": "python",
   "nbconvert_exporter": "python",
   "pygments_lexer": "ipython3",
   "version": "3.9.9"
  },
  "orig_nbformat": 4,
  "vscode": {
   "interpreter": {
    "hash": "b8871766b30c45cfb2619bab0f297c43d168b6e4af35f677a4a05799ebf0194a"
   }
  }
 },
 "nbformat": 4,
 "nbformat_minor": 2
}
