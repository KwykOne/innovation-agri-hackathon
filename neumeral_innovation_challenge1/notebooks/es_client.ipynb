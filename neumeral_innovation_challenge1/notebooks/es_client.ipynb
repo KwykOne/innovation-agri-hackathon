{
 "cells": [
  {
   "cell_type": "code",
   "execution_count": 8,
   "metadata": {},
   "outputs": [],
   "source": [
    "import os\n",
    "from elasticsearch import Elasticsearch\n",
    "\n",
    "ELASTIC_HOST = os.getenv('ELASTIC_HOST', 'http://localhost:9200')\n",
    "ELASTIC_API_KEY_ID = os.getenv('ELASTIC_API_KEY_ID', '')\n",
    "ELASTIC_API_KEY_VALUE = os.getenv('ELASTIC_API_KEY_VALUE', '')\n",
    "ELASTIC_SEARCH_INDEX = os.getenv('ELASTIC_SEARCH_INDEX', 'farm-products')\n"
   ]
  },
  {
   "cell_type": "code",
   "execution_count": 22,
   "metadata": {},
   "outputs": [],
   "source": [
    "client = Elasticsearch(\n",
    "            [ELASTIC_HOST], \n",
    "            api_key=(ELASTIC_API_KEY_ID, ELASTIC_API_KEY_VALUE)\n",
    "        )"
   ]
  },
  {
   "cell_type": "code",
   "execution_count": 35,
   "metadata": {},
   "outputs": [
    {
     "name": "stderr",
     "output_type": "stream",
     "text": [
      "/var/folders/8h/pn2qk1n5571cghfklz699nh80000gn/T/ipykernel_11144/1405706728.py:2: DeprecationWarning: Passing transport options in the API method is deprecated. Use 'Elasticsearch.options()' instead.\n",
      "  client.indices.delete(index=ELASTIC_SEARCH_INDEX, ignore=[400, 404])\n",
      "/var/folders/8h/pn2qk1n5571cghfklz699nh80000gn/T/ipykernel_11144/1405706728.py:2: ElasticsearchWarning: Elasticsearch built-in security features are not enabled. Without authentication, your cluster could be accessible to anyone. See https://www.elastic.co/guide/en/elasticsearch/reference/7.17/security-minimal-setup.html to enable security.\n",
      "  client.indices.delete(index=ELASTIC_SEARCH_INDEX, ignore=[400, 404])\n"
     ]
    },
    {
     "data": {
      "text/plain": [
       "ObjectApiResponse({'acknowledged': True})"
      ]
     },
     "execution_count": 35,
     "metadata": {},
     "output_type": "execute_result"
    }
   ],
   "source": [
    "# Delete Index\n",
    "client.indices.delete(index=ELASTIC_SEARCH_INDEX, ignore=[400, 404])"
   ]
  },
  {
   "cell_type": "code",
   "execution_count": 36,
   "metadata": {},
   "outputs": [
    {
     "name": "stderr",
     "output_type": "stream",
     "text": [
      "/var/folders/8h/pn2qk1n5571cghfklz699nh80000gn/T/ipykernel_11144/25927682.py:37: DeprecationWarning: Passing transport options in the API method is deprecated. Use 'Elasticsearch.options()' instead.\n",
      "  helpers.bulk(client, docs, chunk_size=1000, request_timeout=200)\n",
      "/var/folders/8h/pn2qk1n5571cghfklz699nh80000gn/T/ipykernel_11144/25927682.py:37: ElasticsearchWarning: Elasticsearch built-in security features are not enabled. Without authentication, your cluster could be accessible to anyone. See https://www.elastic.co/guide/en/elasticsearch/reference/7.17/security-minimal-setup.html to enable security.\n",
      "  helpers.bulk(client, docs, chunk_size=1000, request_timeout=200)\n",
      "/var/folders/8h/pn2qk1n5571cghfklz699nh80000gn/T/ipykernel_11144/25927682.py:37: ElasticsearchWarning: [types removal] Specifying types in bulk requests is deprecated.\n",
      "  helpers.bulk(client, docs, chunk_size=1000, request_timeout=200)\n"
     ]
    },
    {
     "data": {
      "text/plain": [
       "(3, [])"
      ]
     },
     "execution_count": 36,
     "metadata": {},
     "output_type": "execute_result"
    }
   ],
   "source": [
    "# Index the document\n",
    "from datetime import datetime\n",
    "from elasticsearch import helpers\n",
    "import uuid\n",
    "\n",
    "docs = [\n",
    "    {\n",
    "        '_index': ELASTIC_SEARCH_INDEX,\n",
    "        '_type': 'FARM_PRODUCT',\n",
    "        '_id': uuid.uuid4(),\n",
    "        'type': 'nutrition',\n",
    "        'title': '24 CAROT SONA',\n",
    "        'price': 100,\n",
    "        'timestamp': datetime.now(),\n",
    "    },\n",
    "    {   \n",
    "        '_index': ELASTIC_SEARCH_INDEX,\n",
    "        '_type': 'FARM_PRODUCT',\n",
    "        '_id': uuid.uuid4(),\n",
    "        'type': 'seed',\n",
    "        'title': 'CABBAGE',\n",
    "        'price': 80,\n",
    "        'timestamp': datetime.now(),\n",
    "    },\n",
    "    {\n",
    "        '_index': ELASTIC_SEARCH_INDEX,\n",
    "        '_type': 'FARM_PRODUCT',\n",
    "        '_id': uuid.uuid4(),\n",
    "        'type': 'seed',\n",
    "        'title': 'CABBAGE - BETTER',\n",
    "        'price': 100,\n",
    "        'timestamp': datetime.now(),\n",
    "    },\n",
    "]\n",
    "#client.index(index=ELASTIC_SEARCH_INDEX, id=1, document=doc)\n",
    "\n",
    "helpers.bulk(client, docs, chunk_size=1000, request_timeout=200)"
   ]
  },
  {
   "cell_type": "code",
   "execution_count": 55,
   "metadata": {},
   "outputs": [
    {
     "name": "stderr",
     "output_type": "stream",
     "text": [
      "/var/folders/8h/pn2qk1n5571cghfklz699nh80000gn/T/ipykernel_11144/466214737.py:15: DeprecationWarning: The 'body' parameter is deprecated and will be removed in a future version. Instead use individual parameters.\n",
      "  result = client.search(index=ELASTIC_SEARCH_INDEX, body=query)\n",
      "/var/folders/8h/pn2qk1n5571cghfklz699nh80000gn/T/ipykernel_11144/466214737.py:15: ElasticsearchWarning: Elasticsearch built-in security features are not enabled. Without authentication, your cluster could be accessible to anyone. See https://www.elastic.co/guide/en/elasticsearch/reference/7.17/security-minimal-setup.html to enable security.\n",
      "  result = client.search(index=ELASTIC_SEARCH_INDEX, body=query)\n"
     ]
    },
    {
     "data": {
      "text/plain": [
       "[{'_index': 'test-farm-inputs',\n",
       "  '_type': 'FARM_PRODUCT',\n",
       "  '_id': '31ffd66c-bc8f-4983-8d5b-266e59e304f7',\n",
       "  '_score': 0.5908618,\n",
       "  '_source': {'type': 'seed',\n",
       "   'title': 'CABBAGE',\n",
       "   'price': 80,\n",
       "   'timestamp': '2022-07-03T14:13:10.527616'}},\n",
       " {'_index': 'test-farm-inputs',\n",
       "  '_type': 'FARM_PRODUCT',\n",
       "  '_id': '3df78730-896d-4866-8255-0ca0d24353cb',\n",
       "  '_score': 0.4700036,\n",
       "  '_source': {'type': 'seed',\n",
       "   'title': 'CABBAGE - BETTER',\n",
       "   'price': 100,\n",
       "   'timestamp': '2022-07-03T14:13:10.527631'}}]"
      ]
     },
     "execution_count": 55,
     "metadata": {},
     "output_type": "execute_result"
    }
   ],
   "source": [
    "query = {\n",
    "    \"query\": {\n",
    "        \"bool\": {\n",
    "            \"must\": [\n",
    "                {\"match\": {\"title\": \"cabbage\"}},\n",
    "            ],\n",
    "            \"filter\": [\n",
    "                {\"match\": {\"type\": \"seed\"}},\n",
    "                {\"range\": {\"price\": {\"gte\":50 }}}\n",
    "            ]\n",
    "        }\n",
    "    }\n",
    "}\n",
    "\n",
    "result = client.search(index=ELASTIC_SEARCH_INDEX, body=query)\n",
    "\n",
    "hits = result.body.get('hits')\n",
    "result_items = hits.get('hits')\n",
    "result_items"
   ]
  }
 ],
 "metadata": {
  "kernelspec": {
   "display_name": "Python 3.9.9 ('venv': venv)",
   "language": "python",
   "name": "python3"
  },
  "language_info": {
   "codemirror_mode": {
    "name": "ipython",
    "version": 3
   },
   "file_extension": ".py",
   "mimetype": "text/x-python",
   "name": "python",
   "nbconvert_exporter": "python",
   "pygments_lexer": "ipython3",
   "version": "3.9.9"
  },
  "orig_nbformat": 4,
  "vscode": {
   "interpreter": {
    "hash": "b8871766b30c45cfb2619bab0f297c43d168b6e4af35f677a4a05799ebf0194a"
   }
  }
 },
 "nbformat": 4,
 "nbformat_minor": 2
}
