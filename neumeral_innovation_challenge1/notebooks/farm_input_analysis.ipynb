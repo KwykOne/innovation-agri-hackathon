{
 "cells": [
  {
   "cell_type": "code",
   "execution_count": 34,
   "metadata": {},
   "outputs": [],
   "source": [
    "import pandas as pd\n",
    "pd.set_option('display.max_colwidth', None)\n"
   ]
  },
  {
   "cell_type": "code",
   "execution_count": 3,
   "metadata": {},
   "outputs": [
    {
     "data": {
      "text/html": [
       "<div>\n",
       "<style scoped>\n",
       "    .dataframe tbody tr th:only-of-type {\n",
       "        vertical-align: middle;\n",
       "    }\n",
       "\n",
       "    .dataframe tbody tr th {\n",
       "        vertical-align: top;\n",
       "    }\n",
       "\n",
       "    .dataframe thead th {\n",
       "        text-align: right;\n",
       "    }\n",
       "</style>\n",
       "<table border=\"1\" class=\"dataframe\">\n",
       "  <thead>\n",
       "    <tr style=\"text-align: right;\">\n",
       "      <th></th>\n",
       "      <th>Category</th>\n",
       "      <th>Provider</th>\n",
       "      <th>Product ID</th>\n",
       "      <th>Product Name</th>\n",
       "      <th>Image URL</th>\n",
       "      <th>Product Price</th>\n",
       "      <th>Quantity</th>\n",
       "      <th>Product Description</th>\n",
       "    </tr>\n",
       "  </thead>\n",
       "  <tbody>\n",
       "    <tr>\n",
       "      <th>0</th>\n",
       "      <td>Seeds</td>\n",
       "      <td>Syngenta</td>\n",
       "      <td>Farminput00001</td>\n",
       "      <td>1522 CAULIFLOWER (फूलगोभी)</td>\n",
       "      <td>https://cdn.shopify.com/s/files/1/0722/2059/pr...</td>\n",
       "      <td>620</td>\n",
       "      <td>26</td>\n",
       "      <td>Seed Specifications:\\n\\n\\nSemi erect, medium p...</td>\n",
       "    </tr>\n",
       "    <tr>\n",
       "      <th>1</th>\n",
       "      <td>Seeds</td>\n",
       "      <td>Syngenta</td>\n",
       "      <td>Farminput00002</td>\n",
       "      <td>1522 CAULIFLOWER (फूलगोभी)</td>\n",
       "      <td>NaN</td>\n",
       "      <td>6,900</td>\n",
       "      <td>53</td>\n",
       "      <td>Seed Specifications:\\n\\n\\nSemi erect, medium p...</td>\n",
       "    </tr>\n",
       "    <tr>\n",
       "      <th>2</th>\n",
       "      <td>Seeds</td>\n",
       "      <td>Syngenta</td>\n",
       "      <td>Farminput00003</td>\n",
       "      <td>1522 CAULIFLOWER (फूलगोभी)</td>\n",
       "      <td>https://cdn.shopify.com/s/files/1/0722/2059/pr...</td>\n",
       "      <td>620</td>\n",
       "      <td>52</td>\n",
       "      <td>Seed Specifications:\\n\\n\\nSemi erect, medium p...</td>\n",
       "    </tr>\n",
       "    <tr>\n",
       "      <th>3</th>\n",
       "      <td>Seeds</td>\n",
       "      <td>Syngenta</td>\n",
       "      <td>Farminput00004</td>\n",
       "      <td>1522 CAULIFLOWER (फूलगोभी)</td>\n",
       "      <td>https://cdn.shopify.com/s/files/1/0722/2059/pr...</td>\n",
       "      <td>6,160</td>\n",
       "      <td>57</td>\n",
       "      <td>Seed Specifications:\\n\\n\\nSemi erect, medium p...</td>\n",
       "    </tr>\n",
       "    <tr>\n",
       "      <th>4</th>\n",
       "      <td>Seeds</td>\n",
       "      <td>Syngenta</td>\n",
       "      <td>Farminput00005</td>\n",
       "      <td>1522 CAULIFLOWER (फूलगोभी)</td>\n",
       "      <td>https://cdn.shopify.com/s/files/1/0722/2059/pr...</td>\n",
       "      <td>12,280</td>\n",
       "      <td>28</td>\n",
       "      <td>Seed Specifications:\\n\\n\\nSemi erect, medium p...</td>\n",
       "    </tr>\n",
       "  </tbody>\n",
       "</table>\n",
       "</div>"
      ],
      "text/plain": [
       "  Category  Provider      Product ID                Product Name  \\\n",
       "0    Seeds  Syngenta  Farminput00001  1522 CAULIFLOWER (फूलगोभी)   \n",
       "1    Seeds  Syngenta  Farminput00002  1522 CAULIFLOWER (फूलगोभी)   \n",
       "2    Seeds  Syngenta  Farminput00003  1522 CAULIFLOWER (फूलगोभी)   \n",
       "3    Seeds  Syngenta  Farminput00004  1522 CAULIFLOWER (फूलगोभी)   \n",
       "4    Seeds  Syngenta  Farminput00005  1522 CAULIFLOWER (फूलगोभी)   \n",
       "\n",
       "                                           Image URL Product Price  Quantity  \\\n",
       "0  https://cdn.shopify.com/s/files/1/0722/2059/pr...          620         26   \n",
       "1                                                NaN        6,900         53   \n",
       "2  https://cdn.shopify.com/s/files/1/0722/2059/pr...          620         52   \n",
       "3  https://cdn.shopify.com/s/files/1/0722/2059/pr...        6,160         57   \n",
       "4  https://cdn.shopify.com/s/files/1/0722/2059/pr...       12,280         28   \n",
       "\n",
       "                                 Product Description  \n",
       "0  Seed Specifications:\\n\\n\\nSemi erect, medium p...  \n",
       "1  Seed Specifications:\\n\\n\\nSemi erect, medium p...  \n",
       "2  Seed Specifications:\\n\\n\\nSemi erect, medium p...  \n",
       "3  Seed Specifications:\\n\\n\\nSemi erect, medium p...  \n",
       "4  Seed Specifications:\\n\\n\\nSemi erect, medium p...  "
      ]
     },
     "execution_count": 3,
     "metadata": {},
     "output_type": "execute_result"
    }
   ],
   "source": [
    "df = pd.read_csv('../data/farm_input_hackathon.csv')\n",
    "df.head()"
   ]
  },
  {
   "cell_type": "code",
   "execution_count": 4,
   "metadata": {},
   "outputs": [
    {
     "name": "stdout",
     "output_type": "stream",
     "text": [
      "<class 'pandas.core.frame.DataFrame'>\n",
      "RangeIndex: 12304 entries, 0 to 12303\n",
      "Data columns (total 8 columns):\n",
      " #   Column               Non-Null Count  Dtype \n",
      "---  ------               --------------  ----- \n",
      " 0   Category             12044 non-null  object\n",
      " 1   Provider             12304 non-null  object\n",
      " 2   Product ID           12011 non-null  object\n",
      " 3   Product Name         12304 non-null  object\n",
      " 4   Image URL            10987 non-null  object\n",
      " 5   Product Price        12304 non-null  object\n",
      " 6   Quantity             12304 non-null  int64 \n",
      " 7   Product Description  11932 non-null  object\n",
      "dtypes: int64(1), object(7)\n",
      "memory usage: 769.1+ KB\n"
     ]
    }
   ],
   "source": [
    "df.shape\n",
    "df.info()"
   ]
  },
  {
   "cell_type": "code",
   "execution_count": 5,
   "metadata": {},
   "outputs": [
    {
     "data": {
      "text/plain": [
       "array(['Seeds', 'Crop Nutrition', 'Crop Protection', nan, 'Accessories',\n",
       "       'Farm Machinery', 'Animal Husbandry', 'Implements',\n",
       "       'Seeds & Seed Tape', 'Saplings', 'Fertilizers', 'Agriculture',\n",
       "       'FEED', 'Agri Implements', 'Crop ProFUtection', 'CHILLI',\n",
       "       'Speciality Nutrients', 'fungicide', 'Vitamins & Supplements',\n",
       "       'SEED', 'MAIZE', 'Molecules', 'FREEGIFT_HIDDEN', 'CROP PROTECTION',\n",
       "       'CROP NUTRITION', 'WHEAT'], dtype=object)"
      ]
     },
     "execution_count": 5,
     "metadata": {},
     "output_type": "execute_result"
    }
   ],
   "source": [
    "df.Category.unique()"
   ]
  },
  {
   "cell_type": "code",
   "execution_count": 6,
   "metadata": {},
   "outputs": [
    {
     "data": {
      "text/plain": [
       "Category               2032\n",
       "Provider               2032\n",
       "Product ID             2022\n",
       "Product Name           2032\n",
       "Image URL              1871\n",
       "Product Price          2032\n",
       "Quantity               2032\n",
       "Product Description    2006\n",
       "dtype: int64"
      ]
     },
     "execution_count": 6,
     "metadata": {},
     "output_type": "execute_result"
    }
   ],
   "source": [
    "\n",
    "cat_1 = df[df.Category.isin(['Crop Nutrition'])]\n",
    "cat_1.count()\n"
   ]
  },
  {
   "cell_type": "code",
   "execution_count": 7,
   "metadata": {},
   "outputs": [
    {
     "data": {
      "text/plain": [
       "['Specifications:',\n",
       " '24 Carat Sona (Seaweed, Amino Acid, Humic Acid), a Plant Growth Promotes, stimulates and enhances the microscopic bacteria on the ground, accelerates the disruption and prepares organic material in the soil. This helps in increasingthe ground air mixture, the photosynthesis, cell division and dispersion.Additionally, 24 carat sonaenhances seed germination and increases life of the plant. It increases soil moisture, composition, life-satisfaction and water collector capacity. It also increases the number and spread of roots.As a result of using 24 Cart Sona, flowers bear more fruits and reduce their premature fall. The percentage of organic carbon in the soil increases. High quality yields high yields for natural flavor and taste. ',\n",
       " 'Dosage:',\n",
       " 'Per acre - 2kg - ready to apply in soil (not water soluble )',\n",
       " 'If you want Water Soluble, 24 Carat Sona and Omega Gold are available in liquid form.',\n",
       " 'Legal Disclaimer:',\n",
       " 'For agriculture and Gardening use only. The product is beyond our control hence we are not responsible for any damage.']"
      ]
     },
     "execution_count": 7,
     "metadata": {},
     "output_type": "execute_result"
    }
   ],
   "source": [
    "\n",
    "desc = cat_1['Product Description'][12]\n",
    "\n",
    "desc = desc.replace('\\xa0', '')\n",
    "list(filter(None, desc.split(\"\\n\")))"
   ]
  },
  {
   "cell_type": "code",
   "execution_count": 22,
   "metadata": {},
   "outputs": [
    {
     "data": {
      "text/plain": [
       "Category               1001\n",
       "Provider               1001\n",
       "Product ID              992\n",
       "Product Name           1001\n",
       "Image URL               623\n",
       "Product Price          1001\n",
       "Quantity               1001\n",
       "Product Description     990\n",
       "dtype: int64"
      ]
     },
     "execution_count": 22,
     "metadata": {},
     "output_type": "execute_result"
    }
   ],
   "source": [
    "cat_2 = df[df.Category.isin(['Farm Machinery'])]\n",
    "cat_2.count()\n",
    "#cat_2.tail()\n"
   ]
  },
  {
   "cell_type": "code",
   "execution_count": 9,
   "metadata": {},
   "outputs": [
    {
     "data": {
      "text/plain": [
       "'Prepaid Only.\\xa0\\nSpecifications\\n\\n\\n\\n\\n\\nIn The Box\\n\\n\\n\\n\\n\\n\\nset of 1\\n\\n\\n\\n\\n\\n\\n\\n\\nGeneral\\n\\n\\n\\n\\nBrand\\n\\n\\nWOLF GARTEN\\n\\n\\n\\n\\nModel Number\\n\\n\\nTT 350S+FS 350\\n\\n\\n\\n\\nType\\n\\n\\nRide-on\\n\\n\\n\\n\\nCutting System\\n\\n\\nCylinder\\n\\n\\n\\n\\nCutting Height\\n\\n\\n10 inch\\n\\n\\n\\n\\nCutting Width\\n\\n\\n14 inch\\n\\n\\n\\n\\n\\n\\n\\n\\nPower Features\\n\\n\\n\\n\\nPower Source\\n\\n\\nManual\\n\\n\\n\\n\\n\\n\\n\\n\\nDimensions\\n\\n\\n\\n\\nLength\\n\\n\\n52 cm\\n\\n\\n\\n\\nWidth\\n\\n\\n44 cm\\n\\n\\n\\n\\nHeight\\n\\n\\n27 cm\\n\\n\\n\\n\\nWeight\\n\\n\\n9 kg'"
      ]
     },
     "execution_count": 9,
     "metadata": {},
     "output_type": "execute_result"
    }
   ],
   "source": [
    "desc = cat_2['Product Description'][12143]\n",
    "desc"
   ]
  },
  {
   "cell_type": "code",
   "execution_count": 10,
   "metadata": {},
   "outputs": [
    {
     "data": {
      "text/plain": [
       "['Prepaid Only.',\n",
       " 'Specifications',\n",
       " 'In The Box',\n",
       " 'set of 1',\n",
       " 'General',\n",
       " 'Brand',\n",
       " 'WOLF GARTEN',\n",
       " 'Model Number',\n",
       " 'TT 350S+FS 350',\n",
       " 'Type',\n",
       " 'Ride-on',\n",
       " 'Cutting System',\n",
       " 'Cylinder',\n",
       " 'Cutting Height',\n",
       " '10 inch',\n",
       " 'Cutting Width',\n",
       " '14 inch',\n",
       " 'Power Features',\n",
       " 'Power Source',\n",
       " 'Manual',\n",
       " 'Dimensions',\n",
       " 'Length',\n",
       " '52 cm',\n",
       " 'Width',\n",
       " '44 cm',\n",
       " 'Height',\n",
       " '27 cm',\n",
       " 'Weight',\n",
       " '9 kg']"
      ]
     },
     "execution_count": 10,
     "metadata": {},
     "output_type": "execute_result"
    }
   ],
   "source": [
    "desc = desc.replace('\\xa0', '')\n",
    "list(filter(None, desc.split(\"\\n\")))"
   ]
  },
  {
   "cell_type": "code",
   "execution_count": 60,
   "metadata": {},
   "outputs": [
    {
     "data": {
      "text/plain": [
       "170                                                                                                                                                                                                                                                                                                                                                                                                                                                                                                                                                                                                                                                                                                                                                                                                                                                                                                                                                                                                                                                                                                                                                            Orders Of 100 KG &amp; Above will shipped to the nearest depot.\\nONLY PREPAID\\n\\nBenefits:\\n\\nAcidification of Feed\\nReduced Microbial Load of Feed Healthy Gut Microflora\\n\\nDosage:\\n2.5 to 3 kg Per MT of Feed\\n \n",
       "171                                                                                                                                                                                                                                                                                                                                                                                                                                                                                                                                                                                                                                                                                                                                                                                                                                                                                                                                                                                COMPOSITION: Each kg contains\\n\\nHSCAS 90.00%\\nAcetic Acid 4.00%\\n\\nPropionic Acid 2.00%\\nButyric Acid 2.00%\\n Formic Acid 2.00%\\n\\nBENEFITS:\\n\\nControl of E.coli and Salmonella\\nMaintenance of healthy gut flora\\nAcidification of complete feed\\n\\nDOSAGE: Broilers and Layers: 500 gm to 1.0 Kg per tonne of feedBreeders: 1.0to3.0 Kg of feed or as advised by the consultant Veterinarian\n",
       "172                                                                                                                                                                                                                                                                                                                                                                                                                                                                                                                                                                                                                                                                                                                                                                                                                                                                                                                                                                                COMPOSITION: Each kg contains\\n\\nHSCAS 90.00%\\nAcetic Acid 4.00%\\n\\nPropionic Acid 2.00%\\nButyric Acid 2.00%\\n Formic Acid 2.00%\\n\\nBENEFITS:\\n\\nControl of E.coli and Salmonella\\nMaintenance of healthy gut flora\\nAcidification of complete feed\\n\\nDOSAGE: Broilers and Layers: 500 gm to 1.0 Kg per tonne of feedBreeders: 1.0to3.0 Kg of feed or as advised by the consultant Veterinarian\n",
       "232                                                                                                                                                                                                                                                                                                                                                                                                                                                                                                                                                                                                                                                                                                                                                                                                                               Composition :Hydrated Sodium Calcium Alumino Silicate(Chlorite / lllite) Mannanoligosacharide Activated Charcoal Antioxidants Kaolin Fungal inhibitors.\\nIndications : Selectively adsorbs and immobilizes the mycotoxins. Has high affinity for aflatoxins and drastically reduces bio-availability of mycotoxins absorbs excess moisture in feed and acts as an anti-caking agent. High capacity for binding aflatoxins and rapidly forms a stable chemisorptions complex.\\nDosage: 1 kg / MT of feed or depending on Moisture Content of feed.\n",
       "236                                                                                                                                                                                                                                                                                                                                                                                                                                                                                                                                                                                                                                                                                                                                                                                                                                                                                                                                                                                                                                                                                                                                                                                                   PREPAID ONLY.\\nAdult Feeder For Poultry\\nBirds Per Feeder: 50 chicks\\nFeeder Capacity: 8 Kgs\\nPan Diameter: 340 mm\\nCone height: 280 mm\\nClick Here For More Poultry Products\n",
       "                                                                                                                                                                                                                                                                                                                                                                                                                                                                                                                                                                                                                                                                                            ...                                                                                                                                                                                                                                                                                                                                                                                                                                                                                                                                                                                                                                                                                    \n",
       "10065    What is Silage?\\n\\nSilage is produced from green grass through controlled Anaerobic fermentation and process of Preservation is done in receptacle called SILO.\\n In anaerobic condition (no air inside pit/tank),with the help of micro organisms, sugar contained in green fodder is converted in to Lactic acid ,which help to preserve the green fodder for longer duration. \\n\\n\\nSilage preparation is one of the important methods for storage of green fodder for dairy animals \\n\\n Benefits\\n\\nPromotes Anaerobic fermentation. Reduces P\" of green grass to 3.5\\nImproves Silage quality\\n\\nComposition \\nEach Kg of Tapas Silage Culture contains \\n\\nLactobacillus plantaram\\nLactic Acid Bacillus\\nLactobacillus acidophilus\\nEnterococcus faecium\\nAdditives for bacteria to grow fast on silage\\n\\n\\nPreparation \\n\\n100 gm of power to be sprayed on 1000 kg of green fodder while preparing SILAGE\\n For every 1 ton of chaffed green fodder 100 gm TAPAS SILAGE culture need to put and mixed.\\n1 kg is sufficient for 10 tons of silage but for better mixing lower amount can be mixed with lesser quantity of chaffed green fodder.\\nSuitable Fodder Crops\\n\\nFodders having more fermentable carbohydrates are suitable for Silage making\\nMaize -  Maize silage is of superior quality\\nSorghum\\nBajra\\nOats\\nCultivated grasses like Napier Etc.,\n",
       "10066    What is Silage?\\n\\nSilage is produced from green grass through controlled Anaerobic fermentation and process of Preservation is done in receptacle called SILO.\\n In anaerobic condition (no air inside pit/tank),with the help of micro organisms, sugar contained in green fodder is converted in to Lactic acid ,which help to preserve the green fodder for longer duration. \\n\\n\\nSilage preparation is one of the important methods for storage of green fodder for dairy animals \\n\\n Benefits\\n\\nPromotes Anaerobic fermentation. Reduces P\" of green grass to 3.5\\nImproves Silage quality\\n\\nComposition \\nEach Kg of Tapas Silage Culture contains \\n\\nLactobacillus plantaram\\nLactic Acid Bacillus\\nLactobacillus acidophilus\\nEnterococcus faecium\\nAdditives for bacteria to grow fast on silage\\n\\n\\nPreparation \\n\\n100 gm of power to be sprayed on 1000 kg of green fodder while preparing SILAGE\\n For every 1 ton of chaffed green fodder 100 gm TAPAS SILAGE culture need to put and mixed.\\n1 kg is sufficient for 10 tons of silage but for better mixing lower amount can be mixed with lesser quantity of chaffed green fodder.\\nSuitable Fodder Crops\\n\\nFodders having more fermentable carbohydrates are suitable for Silage making\\nMaize -  Maize silage is of superior quality\\nSorghum\\nBajra\\nOats\\nCultivated grasses like Napier Etc.,\n",
       "10067    What is Silage?\\n\\nSilage is produced from green grass through controlled Anaerobic fermentation and process of Preservation is done in receptacle called SILO.\\n In anaerobic condition (no air inside pit/tank),with the help of micro organisms, sugar contained in green fodder is converted in to Lactic acid ,which help to preserve the green fodder for longer duration. \\n\\n\\nSilage preparation is one of the important methods for storage of green fodder for dairy animals \\n\\n Benefits\\n\\nPromotes Anaerobic fermentation. Reduces P\" of green grass to 3.5\\nImproves Silage quality\\n\\nComposition \\nEach Kg of Tapas Silage Culture contains \\n\\nLactobacillus plantaram\\nLactic Acid Bacillus\\nLactobacillus acidophilus\\nEnterococcus faecium\\nAdditives for bacteria to grow fast on silage\\n\\n\\nPreparation \\n\\n100 gm of power to be sprayed on 1000 kg of green fodder while preparing SILAGE\\n For every 1 ton of chaffed green fodder 100 gm TAPAS SILAGE culture need to put and mixed.\\n1 kg is sufficient for 10 tons of silage but for better mixing lower amount can be mixed with lesser quantity of chaffed green fodder.\\nSuitable Fodder Crops\\n\\nFodders having more fermentable carbohydrates are suitable for Silage making\\nMaize -  Maize silage is of superior quality\\nSorghum\\nBajra\\nOats\\nCultivated grasses like Napier Etc.,\n",
       "10404                                                                                                                                                                                                                                                                                                                                                                                                                                                                                                                                                                                                                     Composition: Each kg contains (in gms)\\n\\n\\n\\nSelenium\\n00.10\\n\\n\\nIodine\\n01.00\\n\\n\\nCopper\\n15.00\\n\\n\\nManganese\\n80.00\\n\\n\\nZinc\\n60.00\\n\\n\\nIron\\n40.00\\n\\n\\n\\n\\n\\n\\n\\nBenefits : Micronutrients play a major role in the metabolism of Poultry as coenzymes, which in turn help the bird to produce more eggs and more meat. Deficiency of these micronutrients such as Manganese, Zinc, Iron Copper and Cobalt will result in perosis, poor hatchability, anemia, goiter, poor feathering, short bones, slow growth, decreased feed efficiency and mortality. Stress, poor quality mineral mixture, and feed ingredients demand supplementation of additional micronutrients for optimum productivity in Poultry.\\nDosage : 1-2 kg / tonne of feed.\n",
       "11957                                                                                                                                                                                                                                                                                                                                                                                                                                                                                                                                                                                                                                                                                                                                                                                                                                                                                                                                                                                                                                                                                              Benefits:\\n\\nImmunity Enhancement\\nProtecting against Various Viral diseases Improves Fertility &amp; Hatchability Improves Weight Gain and FCR\\nPrevents White muscle disease Increases Egg production\\n\\nDosage:\\n\\nFeed: 250 gms per MT\\nFeed Water: 5 to 10 gms for 50 Birds\n",
       "Name: Product Description, Length: 322, dtype: object"
      ]
     },
     "execution_count": 60,
     "metadata": {},
     "output_type": "execute_result"
    }
   ],
   "source": [
    "cat_3 = df[df.Category.isin(['Animal Husbandry'])]\n",
    "new_col = cat_3[\"Product Description\"] #.str.split(\" \")\n",
    "\n",
    "new_col\n",
    "#cat_3.head(5)\n",
    "#row['Product Description']\n"
   ]
  }
 ],
 "metadata": {
  "kernelspec": {
   "display_name": "Python 3.9.9 ('venv': venv)",
   "language": "python",
   "name": "python3"
  },
  "language_info": {
   "codemirror_mode": {
    "name": "ipython",
    "version": 3
   },
   "file_extension": ".py",
   "mimetype": "text/x-python",
   "name": "python",
   "nbconvert_exporter": "python",
   "pygments_lexer": "ipython3",
   "version": "3.9.9"
  },
  "orig_nbformat": 4,
  "vscode": {
   "interpreter": {
    "hash": "b8871766b30c45cfb2619bab0f297c43d168b6e4af35f677a4a05799ebf0194a"
   }
  }
 },
 "nbformat": 4,
 "nbformat_minor": 2
}
