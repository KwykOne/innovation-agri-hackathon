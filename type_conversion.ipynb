{
 "cells": [
  {
   "cell_type": "code",
   "execution_count": 1,
   "id": "cb6b8b97",
   "metadata": {},
   "outputs": [],
   "source": [
    "import os\n",
    "import datetime\n",
    "\n",
    "import  jpype     \n",
    "import  asposecells"
   ]
  },
  {
   "cell_type": "code",
   "execution_count": 3,
   "id": "e47f906a",
   "metadata": {},
   "outputs": [],
   "source": [
    "#start JVM\n",
    "jpype.startJVM() \n",
    "from asposecells.api import Workbook"
   ]
  },
  {
   "cell_type": "code",
   "execution_count": 12,
   "id": "6700408c",
   "metadata": {},
   "outputs": [],
   "source": [
    "path_of_the_directory = './dataset/two_years_ds/Ragi/'\n",
    "output_path_of_the_directory = './dataset/formatted/'\n",
    "crop = 'Ragi'"
   ]
  },
  {
   "cell_type": "code",
   "execution_count": null,
   "id": "4fa12c65",
   "metadata": {},
   "outputs": [
    {
     "name": "stdout",
     "output_type": "stream",
     "text": [
      "dateRagiWiseReport_04_07_2022 - 2022-07-04T191339.204.xls\n",
      "DateWiseReport_03_07_2022 (6).xls\n",
      "DateWiseReport_03_07_2022.xls\n",
      "dateRagiWiseReport_04_07_2022 (82).xls\n",
      "dateRagiWiseReport_04_07_2022 (94).xls\n",
      "dateRagiWiseReport_04_07_2022 (100).xls\n",
      "dateRagiWiseReport_04_07_2022 (57).xls\n",
      "dateRagiWiseReport_04_07_2022 (16).xls\n",
      "dateRagiWiseReport_04_07_2022 (41).xls\n",
      "dateRagiWiseReport_04_07_2022 (36).xls\n",
      "dateRagiWiseReport_04_07_2022 (61).xls\n",
      "dateRagiWiseReport_04_07_2022 (77).xls\n",
      "dateRagiWiseReport_04_07_2022 (98).xls\n",
      "dateRagiWiseReport_04_07_2022 (20).xls\n",
      "DateWiseReport_03_07_2022 (13).xls\n",
      "DateWiseReport_03_07_2022 (12).xls\n",
      "dateRagiWiseReport_04_07_2022 (1).xls\n",
      "dateRagiWiseReport_04_07_2022 (21).xls\n",
      "dateRagiWiseReport_04_07_2022 (76).xls\n",
      "dateRagiWiseReport_04_07_2022 (99).xls\n",
      "dateRagiWiseReport_04_07_2022 (60).xls\n",
      "dateRagiWiseReport_04_07_2022 - 2022-07-04T191347.147.xls\n",
      "dateRagiWiseReport_04_07_2022 (37).xls\n",
      "dateRagiWiseReport_04_07_2022 (40).xls\n",
      "dateRagiWiseReport_04_07_2022 (17).xls\n",
      "dateRagiWiseReport_04_07_2022 (56).xls\n",
      "dateRagiWiseReport_04_07_2022 (95).xls\n",
      "dateRagiWiseReport_04_07_2022 - 2022-07-04T191330.565.xls\n",
      "DateWiseReport_03_07_2022 (24).xls\n",
      "dateRagiWiseReport_04_07_2022 (83).xls\n",
      "DateWiseReport_03_07_2022 (7).xls\n",
      "dateRagiWiseReport_04_07_2022 (30).xls\n",
      "dateRagiWiseReport_04_07_2022 (67).xls\n",
      "dateRagiWiseReport_04_07_2022 (88).xls\n",
      "dateRagiWiseReport_04_07_2022 (71).xls\n",
      "dateRagiWiseReport_04_07_2022 (26).xls\n",
      "dateRagiWiseReport_04_07_2022 (6).xls\n",
      "DateWiseReport_03_07_2022 (15).xls\n",
      "dateRagiWiseReport_04_07_2022 (84).xls\n",
      "DateWiseReport_03_07_2022 (23).xls\n",
      "dateRagiWiseReport_04_07_2022 (92).xls\n",
      "dateRagiWiseReport_04_07_2022 (51).xls\n",
      "dateRagiWiseReport_04_07_2022 (10).xls\n",
      "DateWiseReport_03_07_2022 (19).xls\n",
      "dateRagiWiseReport_04_07_2022 (47).xls\n",
      "dateRagiWiseReport_04_07_2022 (46).xls\n",
      "DateWiseReport_03_07_2022 (18).xls\n",
      "dateRagiWiseReport_04_07_2022 (11).xls\n",
      "dateRagiWiseReport_04_07_2022 (50).xls\n",
      "dateRagiWiseReport_04_07_2022 (93).xls\n",
      "DateWiseReport_03_07_2022 (22).xls\n",
      "dateRagiWiseReport_04_07_2022 (85).xls\n",
      "DateWiseReport_03_07_2022 (1).xls\n",
      "DateWiseReport_03_07_2022 (14).xls\n",
      "dateRagiWiseReport_04_07_2022 (7).xls\n",
      "dateRagiWiseReport_04_07_2022 (27).xls\n",
      "dateRagiWiseReport_04_07_2022 (70).xls\n",
      "dateRagiWiseReport_04_07_2022 (66).xls\n",
      "dateRagiWiseReport_04_07_2022 (89).xls\n",
      "dateRagiWiseReport_04_07_2022 (31).xls\n",
      "DateWiseReport_03_07_2022 (17).xls\n",
      "dateRagiWiseReport_04_07_2022 (49).xls\n",
      "dateRagiWiseReport_04_07_2022 (4).xls\n",
      "dateRagiWiseReport_04_07_2022 (24).xls\n",
      "dateRagiWiseReport_04_07_2022 (73).xls\n",
      "dateRagiWiseReport_04_07_2022 (65).xls\n",
      "dateRagiWiseReport_04_07_2022 (32).xls\n",
      "dateRagiWiseReport_04_07_2022 (45).xls\n",
      "dateRagiWiseReport_04_07_2022 (12).xls\n",
      "dateRagiWiseReport_04_07_2022 (8).xls\n",
      "dateRagiWiseReport_04_07_2022 (53).xls\n",
      "dateRagiWiseReport_04_07_2022 (28).xls\n",
      "dateRagiWiseReport_04_07_2022 (90).xls\n",
      "DateWiseReport_03_07_2022 (21).xls\n",
      "dateRagiWiseReport_04_07_2022 (86).xls\n",
      "dateRagiWiseReport_04_07_2022 (69).xls\n",
      "DateWiseReport_03_07_2022 (2).xls\n",
      "DateWiseReport_03_07_2022 (3).xls\n",
      "dateRagiWiseReport_04_07_2022 (87).xls\n",
      "dateRagiWiseReport_04_07_2022 (68).xls\n",
      "DateWiseReport_03_07_2022 (20).xls\n",
      "dateRagiWiseReport_04_07_2022 (91).xls\n",
      "dateRagiWiseReport_04_07_2022 (29).xls\n",
      "dateRagiWiseReport_04_07_2022 (52).xls\n",
      "dateRagiWiseReport_04_07_2022.xls\n"
     ]
    }
   ],
   "source": [
    "for filename in os.listdir(path_of_the_directory):\n",
    "    f = os.path.join(path_of_the_directory,filename)\n",
    "    if os.path.isfile(f) & filename.endswith(\"xls\"):\n",
    "        print(filename)\n",
    "        # Load XLS file\n",
    "        workbook = Workbook(f);\n",
    "        filename = crop + filename.replace(\"xls\",\"xlsx\")\n",
    "        # Save as XLSX\n",
    "        workbook.save(output_path_of_the_directory+filename);"
   ]
  },
  {
   "cell_type": "code",
   "execution_count": null,
   "id": "6214f43b",
   "metadata": {},
   "outputs": [],
   "source": [
    "# Shutdown JVM\n",
    "jpype.shutdownJVM()"
   ]
  }
 ],
 "metadata": {
  "kernelspec": {
   "display_name": "Python 3 (ipykernel)",
   "language": "python",
   "name": "python3"
  },
  "language_info": {
   "codemirror_mode": {
    "name": "ipython",
    "version": 3
   },
   "file_extension": ".py",
   "mimetype": "text/x-python",
   "name": "python",
   "nbconvert_exporter": "python",
   "pygments_lexer": "ipython3",
   "version": "3.9.7"
  }
 },
 "nbformat": 4,
 "nbformat_minor": 5
}
