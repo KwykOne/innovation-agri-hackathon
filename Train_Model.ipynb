{
 "cells": [
  {
   "cell_type": "code",
   "execution_count": 141,
   "id": "97508321",
   "metadata": {},
   "outputs": [],
   "source": [
    "import os\n",
    "import datetime\n",
    "\n",
    "import IPython\n",
    "import IPython.display\n",
    "import matplotlib as mpl\n",
    "import matplotlib.pyplot as plt\n",
    "import numpy as np\n",
    "import pandas as pd\n",
    "import seaborn as sns\n",
    "import tensorflow as tf"
   ]
  },
  {
   "cell_type": "code",
   "execution_count": 142,
   "id": "e71d4433",
   "metadata": {},
   "outputs": [
    {
     "data": {
      "text/html": [
       "<div>\n",
       "<style scoped>\n",
       "    .dataframe tbody tr th:only-of-type {\n",
       "        vertical-align: middle;\n",
       "    }\n",
       "\n",
       "    .dataframe tbody tr th {\n",
       "        vertical-align: top;\n",
       "    }\n",
       "\n",
       "    .dataframe thead th {\n",
       "        text-align: right;\n",
       "    }\n",
       "</style>\n",
       "<table border=\"1\" class=\"dataframe\">\n",
       "  <thead>\n",
       "    <tr style=\"text-align: right;\">\n",
       "      <th></th>\n",
       "      <th>count</th>\n",
       "      <th>mean</th>\n",
       "      <th>std</th>\n",
       "      <th>min</th>\n",
       "      <th>25%</th>\n",
       "      <th>50%</th>\n",
       "      <th>75%</th>\n",
       "      <th>max</th>\n",
       "    </tr>\n",
       "  </thead>\n",
       "  <tbody>\n",
       "    <tr>\n",
       "      <th>modal_beans</th>\n",
       "      <td>4048.0</td>\n",
       "      <td>2506.765069</td>\n",
       "      <td>1655.048300</td>\n",
       "      <td>600.000000</td>\n",
       "      <td>1400.000000</td>\n",
       "      <td>1900.000000</td>\n",
       "      <td>3300.000000</td>\n",
       "      <td>13000.000000</td>\n",
       "    </tr>\n",
       "    <tr>\n",
       "      <th>min_beans</th>\n",
       "      <td>4048.0</td>\n",
       "      <td>2201.438982</td>\n",
       "      <td>1489.531925</td>\n",
       "      <td>400.000000</td>\n",
       "      <td>1200.000000</td>\n",
       "      <td>1600.000000</td>\n",
       "      <td>2900.000000</td>\n",
       "      <td>12000.000000</td>\n",
       "    </tr>\n",
       "    <tr>\n",
       "      <th>max_beans</th>\n",
       "      <td>4048.0</td>\n",
       "      <td>2803.893281</td>\n",
       "      <td>1848.667702</td>\n",
       "      <td>700.000000</td>\n",
       "      <td>1600.000000</td>\n",
       "      <td>2000.000000</td>\n",
       "      <td>3600.000000</td>\n",
       "      <td>14000.000000</td>\n",
       "    </tr>\n",
       "    <tr>\n",
       "      <th>Arrivals_beans</th>\n",
       "      <td>4048.0</td>\n",
       "      <td>11.502841</td>\n",
       "      <td>6.015456</td>\n",
       "      <td>1.000000</td>\n",
       "      <td>7.500000</td>\n",
       "      <td>11.000000</td>\n",
       "      <td>14.000000</td>\n",
       "      <td>100.000000</td>\n",
       "    </tr>\n",
       "    <tr>\n",
       "      <th>modal_ragi</th>\n",
       "      <td>4048.0</td>\n",
       "      <td>2069.420331</td>\n",
       "      <td>795.945640</td>\n",
       "      <td>810.000000</td>\n",
       "      <td>1200.000000</td>\n",
       "      <td>2050.000000</td>\n",
       "      <td>2900.000000</td>\n",
       "      <td>3900.000000</td>\n",
       "    </tr>\n",
       "    <tr>\n",
       "      <th>min_ragi</th>\n",
       "      <td>4048.0</td>\n",
       "      <td>1935.111413</td>\n",
       "      <td>765.771109</td>\n",
       "      <td>750.000000</td>\n",
       "      <td>1100.000000</td>\n",
       "      <td>1900.000000</td>\n",
       "      <td>2762.500000</td>\n",
       "      <td>3800.000000</td>\n",
       "    </tr>\n",
       "    <tr>\n",
       "      <th>max_ragi</th>\n",
       "      <td>4048.0</td>\n",
       "      <td>2215.898839</td>\n",
       "      <td>820.719479</td>\n",
       "      <td>860.000000</td>\n",
       "      <td>1300.000000</td>\n",
       "      <td>2200.000000</td>\n",
       "      <td>3000.000000</td>\n",
       "      <td>4000.000000</td>\n",
       "    </tr>\n",
       "    <tr>\n",
       "      <th>Arrivals_ragi</th>\n",
       "      <td>4048.0</td>\n",
       "      <td>268.317811</td>\n",
       "      <td>290.482019</td>\n",
       "      <td>0.000000</td>\n",
       "      <td>145.000000</td>\n",
       "      <td>231.000000</td>\n",
       "      <td>336.250000</td>\n",
       "      <td>13062.000000</td>\n",
       "    </tr>\n",
       "    <tr>\n",
       "      <th>modal_brinjal</th>\n",
       "      <td>4048.0</td>\n",
       "      <td>1308.894516</td>\n",
       "      <td>710.172688</td>\n",
       "      <td>260.000000</td>\n",
       "      <td>800.000000</td>\n",
       "      <td>1100.000000</td>\n",
       "      <td>1650.000000</td>\n",
       "      <td>6000.000000</td>\n",
       "    </tr>\n",
       "    <tr>\n",
       "      <th>min_brinjal</th>\n",
       "      <td>4048.0</td>\n",
       "      <td>1135.809536</td>\n",
       "      <td>647.141413</td>\n",
       "      <td>12.000000</td>\n",
       "      <td>700.000000</td>\n",
       "      <td>1000.000000</td>\n",
       "      <td>1500.000000</td>\n",
       "      <td>5000.000000</td>\n",
       "    </tr>\n",
       "    <tr>\n",
       "      <th>max_brinjal</th>\n",
       "      <td>4048.0</td>\n",
       "      <td>1477.172678</td>\n",
       "      <td>781.973608</td>\n",
       "      <td>300.000000</td>\n",
       "      <td>900.000000</td>\n",
       "      <td>1200.000000</td>\n",
       "      <td>1800.000000</td>\n",
       "      <td>7000.000000</td>\n",
       "    </tr>\n",
       "    <tr>\n",
       "      <th>Arrivals_brinjal</th>\n",
       "      <td>4048.0</td>\n",
       "      <td>12.153780</td>\n",
       "      <td>8.464355</td>\n",
       "      <td>0.000000</td>\n",
       "      <td>8.000000</td>\n",
       "      <td>11.500000</td>\n",
       "      <td>16.000000</td>\n",
       "      <td>400.000000</td>\n",
       "    </tr>\n",
       "    <tr>\n",
       "      <th>sunHour</th>\n",
       "      <td>4048.0</td>\n",
       "      <td>10.639007</td>\n",
       "      <td>1.908218</td>\n",
       "      <td>4.200000</td>\n",
       "      <td>8.900000</td>\n",
       "      <td>11.600000</td>\n",
       "      <td>11.600000</td>\n",
       "      <td>12.900000</td>\n",
       "    </tr>\n",
       "    <tr>\n",
       "      <th>uvIndex</th>\n",
       "      <td>4048.0</td>\n",
       "      <td>5.901186</td>\n",
       "      <td>0.815963</td>\n",
       "      <td>4.000000</td>\n",
       "      <td>5.000000</td>\n",
       "      <td>6.000000</td>\n",
       "      <td>6.333333</td>\n",
       "      <td>8.000000</td>\n",
       "    </tr>\n",
       "    <tr>\n",
       "      <th>DewPointC</th>\n",
       "      <td>4048.0</td>\n",
       "      <td>16.095284</td>\n",
       "      <td>3.620724</td>\n",
       "      <td>0.500000</td>\n",
       "      <td>13.940972</td>\n",
       "      <td>17.416667</td>\n",
       "      <td>18.708333</td>\n",
       "      <td>22.000000</td>\n",
       "    </tr>\n",
       "    <tr>\n",
       "      <th>cloudcover</th>\n",
       "      <td>4048.0</td>\n",
       "      <td>35.019382</td>\n",
       "      <td>23.320649</td>\n",
       "      <td>0.000000</td>\n",
       "      <td>14.805556</td>\n",
       "      <td>33.854167</td>\n",
       "      <td>53.305556</td>\n",
       "      <td>100.000000</td>\n",
       "    </tr>\n",
       "    <tr>\n",
       "      <th>humidity</th>\n",
       "      <td>4048.0</td>\n",
       "      <td>64.993505</td>\n",
       "      <td>15.368919</td>\n",
       "      <td>20.291667</td>\n",
       "      <td>53.510417</td>\n",
       "      <td>68.194444</td>\n",
       "      <td>76.527778</td>\n",
       "      <td>98.250000</td>\n",
       "    </tr>\n",
       "    <tr>\n",
       "      <th>tempC</th>\n",
       "      <td>4048.0</td>\n",
       "      <td>23.962976</td>\n",
       "      <td>2.800595</td>\n",
       "      <td>7.375000</td>\n",
       "      <td>21.930556</td>\n",
       "      <td>23.500000</td>\n",
       "      <td>25.666667</td>\n",
       "      <td>32.291667</td>\n",
       "    </tr>\n",
       "    <tr>\n",
       "      <th>precipMM</th>\n",
       "      <td>4048.0</td>\n",
       "      <td>0.078039</td>\n",
       "      <td>0.167508</td>\n",
       "      <td>0.000000</td>\n",
       "      <td>0.000000</td>\n",
       "      <td>0.012500</td>\n",
       "      <td>0.083333</td>\n",
       "      <td>2.016667</td>\n",
       "    </tr>\n",
       "    <tr>\n",
       "      <th>pressure</th>\n",
       "      <td>4048.0</td>\n",
       "      <td>1010.584394</td>\n",
       "      <td>2.841587</td>\n",
       "      <td>1003.375000</td>\n",
       "      <td>1008.333333</td>\n",
       "      <td>1010.208333</td>\n",
       "      <td>1012.847222</td>\n",
       "      <td>1018.875000</td>\n",
       "    </tr>\n",
       "    <tr>\n",
       "      <th>winddirDegree</th>\n",
       "      <td>4048.0</td>\n",
       "      <td>175.691926</td>\n",
       "      <td>81.222063</td>\n",
       "      <td>18.541667</td>\n",
       "      <td>97.722222</td>\n",
       "      <td>161.194444</td>\n",
       "      <td>260.513889</td>\n",
       "      <td>330.875000</td>\n",
       "    </tr>\n",
       "    <tr>\n",
       "      <th>windspeedKmph</th>\n",
       "      <td>4048.0</td>\n",
       "      <td>12.474638</td>\n",
       "      <td>4.890679</td>\n",
       "      <td>2.958333</td>\n",
       "      <td>8.888889</td>\n",
       "      <td>11.541667</td>\n",
       "      <td>15.000000</td>\n",
       "      <td>34.791667</td>\n",
       "    </tr>\n",
       "  </tbody>\n",
       "</table>\n",
       "</div>"
      ],
      "text/plain": [
       "                   count         mean          std          min          25%  \\\n",
       "modal_beans       4048.0  2506.765069  1655.048300   600.000000  1400.000000   \n",
       "min_beans         4048.0  2201.438982  1489.531925   400.000000  1200.000000   \n",
       "max_beans         4048.0  2803.893281  1848.667702   700.000000  1600.000000   \n",
       "Arrivals_beans    4048.0    11.502841     6.015456     1.000000     7.500000   \n",
       "modal_ragi        4048.0  2069.420331   795.945640   810.000000  1200.000000   \n",
       "min_ragi          4048.0  1935.111413   765.771109   750.000000  1100.000000   \n",
       "max_ragi          4048.0  2215.898839   820.719479   860.000000  1300.000000   \n",
       "Arrivals_ragi     4048.0   268.317811   290.482019     0.000000   145.000000   \n",
       "modal_brinjal     4048.0  1308.894516   710.172688   260.000000   800.000000   \n",
       "min_brinjal       4048.0  1135.809536   647.141413    12.000000   700.000000   \n",
       "max_brinjal       4048.0  1477.172678   781.973608   300.000000   900.000000   \n",
       "Arrivals_brinjal  4048.0    12.153780     8.464355     0.000000     8.000000   \n",
       "sunHour           4048.0    10.639007     1.908218     4.200000     8.900000   \n",
       "uvIndex           4048.0     5.901186     0.815963     4.000000     5.000000   \n",
       "DewPointC         4048.0    16.095284     3.620724     0.500000    13.940972   \n",
       "cloudcover        4048.0    35.019382    23.320649     0.000000    14.805556   \n",
       "humidity          4048.0    64.993505    15.368919    20.291667    53.510417   \n",
       "tempC             4048.0    23.962976     2.800595     7.375000    21.930556   \n",
       "precipMM          4048.0     0.078039     0.167508     0.000000     0.000000   \n",
       "pressure          4048.0  1010.584394     2.841587  1003.375000  1008.333333   \n",
       "winddirDegree     4048.0   175.691926    81.222063    18.541667    97.722222   \n",
       "windspeedKmph     4048.0    12.474638     4.890679     2.958333     8.888889   \n",
       "\n",
       "                          50%          75%           max  \n",
       "modal_beans       1900.000000  3300.000000  13000.000000  \n",
       "min_beans         1600.000000  2900.000000  12000.000000  \n",
       "max_beans         2000.000000  3600.000000  14000.000000  \n",
       "Arrivals_beans      11.000000    14.000000    100.000000  \n",
       "modal_ragi        2050.000000  2900.000000   3900.000000  \n",
       "min_ragi          1900.000000  2762.500000   3800.000000  \n",
       "max_ragi          2200.000000  3000.000000   4000.000000  \n",
       "Arrivals_ragi      231.000000   336.250000  13062.000000  \n",
       "modal_brinjal     1100.000000  1650.000000   6000.000000  \n",
       "min_brinjal       1000.000000  1500.000000   5000.000000  \n",
       "max_brinjal       1200.000000  1800.000000   7000.000000  \n",
       "Arrivals_brinjal    11.500000    16.000000    400.000000  \n",
       "sunHour             11.600000    11.600000     12.900000  \n",
       "uvIndex              6.000000     6.333333      8.000000  \n",
       "DewPointC           17.416667    18.708333     22.000000  \n",
       "cloudcover          33.854167    53.305556    100.000000  \n",
       "humidity            68.194444    76.527778     98.250000  \n",
       "tempC               23.500000    25.666667     32.291667  \n",
       "precipMM             0.012500     0.083333      2.016667  \n",
       "pressure          1010.208333  1012.847222   1018.875000  \n",
       "winddirDegree      161.194444   260.513889    330.875000  \n",
       "windspeedKmph       11.541667    15.000000     34.791667  "
      ]
     },
     "execution_count": 142,
     "metadata": {},
     "output_type": "execute_result"
    }
   ],
   "source": [
    "df = pd.read_csv('./dataset/final_dataset', index_col=0)\n",
    "df.describe().transpose()"
   ]
  },
  {
   "cell_type": "code",
   "execution_count": 143,
   "id": "f93e8464",
   "metadata": {},
   "outputs": [],
   "source": [
    "wv = df.pop('windspeedKmph')\n",
    "wd_rad = df.pop('winddirDegree')*np.pi / 180\n",
    "\n",
    "# Calculate the wind x and y components.\n",
    "df['Wx'] = wv*np.cos(wd_rad)\n",
    "df['Wy'] = wv*np.sin(wd_rad)"
   ]
  },
  {
   "cell_type": "code",
   "execution_count": 144,
   "id": "d43e376c",
   "metadata": {},
   "outputs": [
    {
     "data": {
      "text/plain": [
       "(-19.869618668441802,\n",
       " 17.311547049232427,\n",
       " -34.31033490877984,\n",
       " 19.614224304549023)"
      ]
     },
     "execution_count": 144,
     "metadata": {},
     "output_type": "execute_result"
    },
    {
     "data": {
      "image/png": "[encoded data removed]",
      "text/plain": [
       "<Figure size 432x288 with 2 Axes>"
      ]
     },
     "metadata": {
      "needs_background": "light"
     },
     "output_type": "display_data"
    }
   ],
   "source": [
    "plt.hist2d(df['Wx'], df['Wy'])\n",
    "plt.colorbar()\n",
    "plt.xlabel('Wind X [m/s]')\n",
    "plt.ylabel('Wind Y [m/s]')\n",
    "ax = plt.gca()\n",
    "ax.axis('tight')"
   ]
  },
  {
   "cell_type": "code",
   "execution_count": 145,
   "id": "7b8be1e1",
   "metadata": {},
   "outputs": [],
   "source": [
    "df.index = pd.to_datetime(df.index, format='%Y.%m.%d %H:%M:%S')\n",
    "timestamp_s = df.index.map(pd.Timestamp.timestamp)\n",
    "day = 24*60*60\n",
    "# day = 1\n",
    "month = 12*day\n",
    "year = (365.2425)*day\n",
    "\n",
    "df['Month sin'] = np.sin(timestamp_s * (2 * np.pi / month))\n",
    "df['Month cos'] = np.cos(timestamp_s * (2 * np.pi / month))\n",
    "df['Year sin'] = np.sin(timestamp_s * (2 * np.pi / year))\n",
    "df['Year cos'] = np.cos(timestamp_s * (2 * np.pi / year))"
   ]
  },
  {
   "cell_type": "code",
   "execution_count": 146,
   "id": "e05a66e1",
   "metadata": {},
   "outputs": [
    {
     "data": {
      "text/plain": [
       "Text(0.5, 1.0, 'Time of day signal')"
      ]
     },
     "execution_count": 146,
     "metadata": {},
     "output_type": "execute_result"
    },
    {
     "data": {
      "image/png": "[encoded data removed]",
      "text/plain": [
       "<Figure size 432x288 with 1 Axes>"
      ]
     },
     "metadata": {
      "needs_background": "light"
     },
     "output_type": "display_data"
    }
   ],
   "source": [
    "plt.plot(np.array(df['Month sin'][:50]))\n",
    "plt.plot(np.array(df['Month cos'][:50]))\n",
    "plt.xlabel('Time [h]')\n",
    "plt.title('Time of day signal')"
   ]
  },
  {
   "cell_type": "code",
   "execution_count": 147,
   "id": "7e30ecf3",
   "metadata": {},
   "outputs": [],
   "source": [
    "column_indices = {name: i for i, name in enumerate(df.columns)}\n",
    "\n",
    "n = len(df)\n",
    "train_df = df[0:int(n*0.7)]\n",
    "val_df = df[int(n*0.7):int(n*0.9)]\n",
    "test_df = df[int(n*0.9):]\n",
    "\n",
    "num_features = df.shape[1]"
   ]
  },
  {
   "cell_type": "code",
   "execution_count": 148,
   "id": "7392084f",
   "metadata": {},
   "outputs": [],
   "source": [
    "train_mean = train_df.mean()\n",
    "train_std = train_df.std()\n",
    "\n",
    "train_df = (train_df - train_mean) / train_std\n",
    "val_df = (val_df - train_mean) / train_std\n",
    "test_df = (test_df - train_mean) / train_std"
   ]
  },
  {
   "cell_type": "code",
   "execution_count": 149,
   "id": "3625b626",
   "metadata": {},
   "outputs": [],
   "source": [
    "train_std.to_csv('./dataset/std')\n",
    "train_mean.to_csv('./dataset/mean')"
   ]
  },
  {
   "cell_type": "code",
   "execution_count": 150,
   "id": "99abd362",
   "metadata": {},
   "outputs": [],
   "source": [
    "class WindowGenerator():\n",
    "  def __init__(self, input_width, label_width, shift,\n",
    "               train_df=train_df, val_df=val_df, test_df=test_df,\n",
    "               label_columns=None):\n",
    "    # Store the raw data.\n",
    "    self.train_df = train_df\n",
    "    self.val_df = val_df\n",
    "    self.test_df = test_df\n",
    "\n",
    "    # Work out the label column indices.\n",
    "    self.label_columns = label_columns\n",
    "    if label_columns is not None:\n",
    "      self.label_columns_indices = {name: i for i, name in\n",
    "                                    enumerate(label_columns)}\n",
    "    self.column_indices = {name: i for i, name in\n",
    "                           enumerate(train_df.columns)}\n",
    "\n",
    "    # Work out the window parameters.\n",
    "    self.input_width = input_width\n",
    "    self.label_width = label_width\n",
    "    self.shift = shift\n",
    "\n",
    "    self.total_window_size = input_width + shift\n",
    "\n",
    "    self.input_slice = slice(0, input_width)\n",
    "    self.input_indices = np.arange(self.total_window_size)[self.input_slice]\n",
    "\n",
    "    self.label_start = self.total_window_size - self.label_width\n",
    "    self.labels_slice = slice(self.label_start, None)\n",
    "    self.label_indices = np.arange(self.total_window_size)[self.labels_slice]\n",
    "\n",
    "  def __repr__(self):\n",
    "    return '\\n'.join([\n",
    "        f'Total window size: {self.total_window_size}',\n",
    "        f'Input indices: {self.input_indices}',\n",
    "        f'Label indices: {self.label_indices}',\n",
    "        f'Label column name(s): {self.label_columns}'])"
   ]
  },
  {
   "cell_type": "code",
   "execution_count": 151,
   "id": "8b915086",
   "metadata": {},
   "outputs": [],
   "source": [
    "def split_window(self, features):\n",
    "  inputs = features[:, self.input_slice, :]\n",
    "  labels = features[:, self.labels_slice, :]\n",
    "  if self.label_columns is not None:\n",
    "    labels = tf.stack(\n",
    "        [labels[:, :, self.column_indices[name]] for name in self.label_columns],\n",
    "        axis=-1)\n",
    "\n",
    "  # Slicing doesn't preserve static shape information, so set the shapes\n",
    "  # manually. This way the `tf.data.Datasets` are easier to inspect.\n",
    "  inputs.set_shape([None, self.input_width, None])\n",
    "  labels.set_shape([None, self.label_width, None])\n",
    "\n",
    "  return inputs, labels\n",
    "\n",
    "WindowGenerator.split_window = split_window"
   ]
  },
  {
   "cell_type": "code",
   "execution_count": 152,
   "id": "01a26461",
   "metadata": {},
   "outputs": [],
   "source": [
    "def plot(self, model=None, plot_col='modal_beans', max_subplots=3):\n",
    "  inputs, labels = self.example\n",
    "  plt.figure(figsize=(12, 8))\n",
    "  plot_col_index = self.column_indices[plot_col]\n",
    "  max_n = min(max_subplots, len(inputs))\n",
    "  for n in range(max_n):\n",
    "    plt.subplot(max_n, 1, n+1)\n",
    "    plt.ylabel(f'{plot_col} [normed]')\n",
    "    plt.plot(self.input_indices, inputs[n, :, plot_col_index],\n",
    "             label='Inputs', marker='.', zorder=-10)\n",
    "\n",
    "    if self.label_columns:\n",
    "      label_col_index = self.label_columns_indices.get(plot_col, None)\n",
    "    else:\n",
    "      label_col_index = plot_col_index\n",
    "\n",
    "    if label_col_index is None:\n",
    "      continue\n",
    "\n",
    "    plt.scatter(self.label_indices, labels[n, :, label_col_index],\n",
    "                edgecolors='k', label='Labels', c='#2ca02c', s=64)\n",
    "    if model is not None:\n",
    "      predictions = model(inputs)\n",
    "      plt.scatter(self.label_indices, predictions[n, :, label_col_index],\n",
    "                  marker='X', edgecolors='k', label='Predictions',\n",
    "                  c='#ff7f0e', s=64)\n",
    "\n",
    "    if n == 0:\n",
    "      plt.legend()\n",
    "\n",
    "  plt.xlabel('Time [h]')\n",
    "\n",
    "WindowGenerator.plot = plot"
   ]
  },
  {
   "cell_type": "code",
   "execution_count": 153,
   "id": "6bcd868f",
   "metadata": {},
   "outputs": [],
   "source": [
    "def make_dataset(self, data):\n",
    "  data = np.array(data, dtype=np.float32)\n",
    "  ds = tf.keras.utils.timeseries_dataset_from_array(\n",
    "      data=data,\n",
    "      targets=None,\n",
    "      sequence_length=self.total_window_size,\n",
    "      sequence_stride=1,\n",
    "      shuffle=False,\n",
    "      batch_size=32,)\n",
    "\n",
    "  ds = ds.map(self.split_window)\n",
    "\n",
    "  return ds\n",
    "\n",
    "WindowGenerator.make_dataset = make_dataset"
   ]
  },
  {
   "cell_type": "code",
   "execution_count": 154,
   "id": "490e5340",
   "metadata": {},
   "outputs": [],
   "source": [
    "@property\n",
    "def train(self):\n",
    "  return self.make_dataset(self.train_df)\n",
    "\n",
    "@property\n",
    "def val(self):\n",
    "  return self.make_dataset(self.val_df)\n",
    "\n",
    "@property\n",
    "def test(self):\n",
    "  return self.make_dataset(self.test_df)\n",
    "\n",
    "@property\n",
    "def example(self):\n",
    "  \"\"\"Get and cache an example batch of `inputs, labels` for plotting.\"\"\"\n",
    "  result = getattr(self, '_example', None)\n",
    "  if result is None:\n",
    "    # No example batch was found, so get one from the `.train` dataset\n",
    "    result = next(iter(self.train))\n",
    "    # And cache it for next time\n",
    "    self._example = result\n",
    "  return result\n",
    "\n",
    "WindowGenerator.train = train\n",
    "WindowGenerator.val = val\n",
    "WindowGenerator.test = test\n",
    "WindowGenerator.example = example"
   ]
  },
  {
   "cell_type": "markdown",
   "id": "f72addf9",
   "metadata": {},
   "source": [
    "class Baseline(tf.keras.Model):\n",
    "  def __init__(self, label_index=None):\n",
    "    super().__init__()\n",
    "    self.label_index = label_index\n",
    "\n",
    "  def call(self, inputs):\n",
    "    if self.label_index is None:\n",
    "      return inputs\n",
    "    result = inputs[:, :, self.label_index]\n",
    "    return result[:, :, tf.newaxis]"
   ]
  },
  {
   "cell_type": "code",
   "execution_count": 155,
   "id": "7473cf59",
   "metadata": {},
   "outputs": [],
   "source": [
    "MAX_EPOCHS = 40\n",
    "\n",
    "def compile_and_fit(model, window, patience=2):\n",
    "  early_stopping = tf.keras.callbacks.EarlyStopping(monitor='val_loss',\n",
    "                                                    patience=patience,\n",
    "                                                    mode='min')\n",
    "\n",
    "  model.compile(loss=tf.keras.losses.MeanSquaredError(),\n",
    "                optimizer=tf.keras.optimizers.Adam(),\n",
    "                metrics=[tf.keras.metrics.MeanAbsoluteError()])\n",
    "\n",
    "  history = model.fit(window.train, epochs=MAX_EPOCHS,\n",
    "                      validation_data=window.val,\n",
    "                      callbacks=[early_stopping])\n",
    "  return history\n"
   ]
  },
  {
   "cell_type": "code",
   "execution_count": 156,
   "id": "58702ad4",
   "metadata": {},
   "outputs": [],
   "source": [
    "label_columns = ['modal_beans', 'min_beans', 'max_beans','modal_ragi',\n",
    "       'min_ragi', 'max_ragi','modal_brinjal', 'min_brinjal',\n",
    "       'max_brinjal', 'Arrivals_beans', 'Arrivals_brinjal', 'Arrivals_ragi']\n",
    "num_features = df.shape[1]\n",
    "label_columns_index = []\n",
    "for label in label_columns:\n",
    "    label_columns_index.append(column_indices[label])"
   ]
  },
  {
   "cell_type": "code",
   "execution_count": 157,
   "id": "295206d4",
   "metadata": {},
   "outputs": [],
   "source": [
    "wide_step_multi_window = WindowGenerator(\n",
    "    input_width=12, label_width=12, shift=1,\n",
    "    label_columns=label_columns)\n"
   ]
  },
  {
   "cell_type": "code",
   "execution_count": 158,
   "id": "dd406c37",
   "metadata": {},
   "outputs": [
    {
     "data": {
      "text/plain": [
       "Total window size: 13\n",
       "Input indices: [ 0  1  2  3  4  5  6  7  8  9 10 11]\n",
       "Label indices: [ 1  2  3  4  5  6  7  8  9 10 11 12]\n",
       "Label column name(s): ['modal_beans', 'min_beans', 'max_beans', 'modal_ragi', 'min_ragi', 'max_ragi', 'modal_brinjal', 'min_brinjal', 'max_brinjal', 'Arrivals_beans', 'Arrivals_brinjal', 'Arrivals_ragi']"
      ]
     },
     "execution_count": 158,
     "metadata": {},
     "output_type": "execute_result"
    }
   ],
   "source": [
    "wide_step_multi_window"
   ]
  },
  {
   "cell_type": "code",
   "execution_count": 159,
   "id": "a1d86a79",
   "metadata": {},
   "outputs": [],
   "source": [
    "multi_val_performance = {}\n",
    "multi_test_performance = {}"
   ]
  },
  {
   "cell_type": "code",
   "execution_count": 160,
   "id": "4d85be54",
   "metadata": {},
   "outputs": [],
   "source": [
    "lstm_model = tf.keras.models.Sequential([\n",
    "    # Shape [batch, time, features] => [batch, time, lstm_units]\n",
    "    tf.keras.layers.LSTM(32, return_sequences=True),\n",
    "#     tf.keras.layers.Dense(units=32, activation='relu'),\n",
    "    # Shape => [batch, time, features]\n",
    "    tf.keras.layers.Dense(units=len(label_columns))\n",
    "])\n"
   ]
  },
  {
   "cell_type": "code",
   "execution_count": 161,
   "id": "1a73a0b6",
   "metadata": {},
   "outputs": [
    {
     "data": {
      "text/plain": [
       "[<keras.layers.recurrent_v2.LSTM at 0x7fd9c6934670>,\n",
       " <keras.layers.core.dense.Dense at 0x7fd9d684eaf0>]"
      ]
     },
     "execution_count": 161,
     "metadata": {},
     "output_type": "execute_result"
    }
   ],
   "source": [
    "lstm_model.layers"
   ]
  },
  {
   "cell_type": "code",
   "execution_count": 162,
   "id": "5db00d34",
   "metadata": {
    "scrolled": true
   },
   "outputs": [
    {
     "name": "stdout",
     "output_type": "stream",
     "text": [
      "Epoch 1/40\n",
      "89/89 [==============================] - 4s 17ms/step - loss: 0.8298 - mean_absolute_error: 0.6558 - val_loss: 2.4767 - val_mean_absolute_error: 1.1851\n",
      "Epoch 2/40\n",
      "89/89 [==============================] - 1s 12ms/step - loss: 0.5209 - mean_absolute_error: 0.4666 - val_loss: 1.7087 - val_mean_absolute_error: 0.9820\n",
      "Epoch 3/40\n",
      "89/89 [==============================] - 1s 12ms/step - loss: 0.4267 - mean_absolute_error: 0.3982 - val_loss: 1.4204 - val_mean_absolute_error: 0.8830\n",
      "Epoch 4/40\n",
      "89/89 [==============================] - 1s 12ms/step - loss: 0.3764 - mean_absolute_error: 0.3599 - val_loss: 1.2581 - val_mean_absolute_error: 0.8245\n",
      "Epoch 5/40\n",
      "89/89 [==============================] - 1s 12ms/step - loss: 0.3438 - mean_absolute_error: 0.3337 - val_loss: 1.1530 - val_mean_absolute_error: 0.7852\n",
      "Epoch 6/40\n",
      "89/89 [==============================] - 1s 12ms/step - loss: 0.3208 - mean_absolute_error: 0.3141 - val_loss: 1.0790 - val_mean_absolute_error: 0.7565\n",
      "Epoch 7/40\n",
      "89/89 [==============================] - 1s 12ms/step - loss: 0.3044 - mean_absolute_error: 0.2988 - val_loss: 1.0214 - val_mean_absolute_error: 0.7341\n",
      "Epoch 8/40\n",
      "89/89 [==============================] - 1s 12ms/step - loss: 0.2925 - mean_absolute_error: 0.2871 - val_loss: 0.9741 - val_mean_absolute_error: 0.7158\n",
      "Epoch 9/40\n",
      "89/89 [==============================] - 1s 12ms/step - loss: 0.2835 - mean_absolute_error: 0.2780 - val_loss: 0.9367 - val_mean_absolute_error: 0.7011\n",
      "Epoch 10/40\n",
      "89/89 [==============================] - 1s 12ms/step - loss: 0.2763 - mean_absolute_error: 0.2705 - val_loss: 0.9079 - val_mean_absolute_error: 0.6896\n",
      "Epoch 11/40\n",
      "89/89 [==============================] - 1s 14ms/step - loss: 0.2704 - mean_absolute_error: 0.2640 - val_loss: 0.8854 - val_mean_absolute_error: 0.6804\n",
      "Epoch 12/40\n",
      "89/89 [==============================] - 1s 13ms/step - loss: 0.2654 - mean_absolute_error: 0.2584 - val_loss: 0.8675 - val_mean_absolute_error: 0.6728\n",
      "Epoch 13/40\n",
      "89/89 [==============================] - 1s 13ms/step - loss: 0.2612 - mean_absolute_error: 0.2533 - val_loss: 0.8529 - val_mean_absolute_error: 0.6663\n",
      "Epoch 14/40\n",
      "89/89 [==============================] - 1s 13ms/step - loss: 0.2575 - mean_absolute_error: 0.2489 - val_loss: 0.8406 - val_mean_absolute_error: 0.6606\n",
      "Epoch 15/40\n",
      "89/89 [==============================] - 1s 13ms/step - loss: 0.2543 - mean_absolute_error: 0.2449 - val_loss: 0.8299 - val_mean_absolute_error: 0.6555\n",
      "Epoch 16/40\n",
      "89/89 [==============================] - 1s 12ms/step - loss: 0.2515 - mean_absolute_error: 0.2414 - val_loss: 0.8204 - val_mean_absolute_error: 0.6507\n",
      "Epoch 17/40\n",
      "89/89 [==============================] - 1s 12ms/step - loss: 0.2491 - mean_absolute_error: 0.2383 - val_loss: 0.8118 - val_mean_absolute_error: 0.6464\n",
      "Epoch 18/40\n",
      "89/89 [==============================] - 1s 15ms/step - loss: 0.2469 - mean_absolute_error: 0.2355 - val_loss: 0.8041 - val_mean_absolute_error: 0.6424\n",
      "Epoch 19/40\n",
      "89/89 [==============================] - 1s 14ms/step - loss: 0.2450 - mean_absolute_error: 0.2331 - val_loss: 0.7972 - val_mean_absolute_error: 0.6388\n",
      "Epoch 20/40\n",
      "89/89 [==============================] - 1s 14ms/step - loss: 0.2433 - mean_absolute_error: 0.2310 - val_loss: 0.7911 - val_mean_absolute_error: 0.6356\n",
      "Epoch 21/40\n",
      "89/89 [==============================] - 1s 13ms/step - loss: 0.2418 - mean_absolute_error: 0.2291 - val_loss: 0.7855 - val_mean_absolute_error: 0.6327\n",
      "Epoch 22/40\n",
      "89/89 [==============================] - 1s 13ms/step - loss: 0.2404 - mean_absolute_error: 0.2274 - val_loss: 0.7806 - val_mean_absolute_error: 0.6301\n",
      "Epoch 23/40\n",
      "89/89 [==============================] - 1s 12ms/step - loss: 0.2391 - mean_absolute_error: 0.2259 - val_loss: 0.7763 - val_mean_absolute_error: 0.6278\n",
      "Epoch 24/40\n",
      "89/89 [==============================] - 1s 12ms/step - loss: 0.2379 - mean_absolute_error: 0.2245 - val_loss: 0.7724 - val_mean_absolute_error: 0.6258\n",
      "Epoch 25/40\n",
      "89/89 [==============================] - 1s 12ms/step - loss: 0.2367 - mean_absolute_error: 0.2233 - val_loss: 0.7690 - val_mean_absolute_error: 0.6241\n",
      "Epoch 26/40\n",
      "89/89 [==============================] - 2s 22ms/step - loss: 0.2357 - mean_absolute_error: 0.2222 - val_loss: 0.7661 - val_mean_absolute_error: 0.6225\n",
      "Epoch 27/40\n",
      "89/89 [==============================] - 1s 15ms/step - loss: 0.2346 - mean_absolute_error: 0.2212 - val_loss: 0.7637 - val_mean_absolute_error: 0.6212\n",
      "Epoch 28/40\n",
      "89/89 [==============================] - 1s 14ms/step - loss: 0.2337 - mean_absolute_error: 0.2203 - val_loss: 0.7616 - val_mean_absolute_error: 0.6201\n",
      "Epoch 29/40\n",
      "89/89 [==============================] - 1s 12ms/step - loss: 0.2327 - mean_absolute_error: 0.2195 - val_loss: 0.7601 - val_mean_absolute_error: 0.6192\n",
      "Epoch 30/40\n",
      "89/89 [==============================] - 1s 13ms/step - loss: 0.2318 - mean_absolute_error: 0.2188 - val_loss: 0.7589 - val_mean_absolute_error: 0.6185\n",
      "Epoch 31/40\n",
      "89/89 [==============================] - 1s 13ms/step - loss: 0.2309 - mean_absolute_error: 0.2181 - val_loss: 0.7580 - val_mean_absolute_error: 0.6180\n",
      "Epoch 32/40\n",
      "89/89 [==============================] - 1s 13ms/step - loss: 0.2300 - mean_absolute_error: 0.2175 - val_loss: 0.7573 - val_mean_absolute_error: 0.6176\n",
      "Epoch 33/40\n",
      "89/89 [==============================] - 1s 16ms/step - loss: 0.2291 - mean_absolute_error: 0.2170 - val_loss: 0.7568 - val_mean_absolute_error: 0.6172\n",
      "Epoch 34/40\n",
      "89/89 [==============================] - 1s 14ms/step - loss: 0.2282 - mean_absolute_error: 0.2165 - val_loss: 0.7563 - val_mean_absolute_error: 0.6170\n",
      "Epoch 35/40\n",
      "89/89 [==============================] - 1s 15ms/step - loss: 0.2273 - mean_absolute_error: 0.2160 - val_loss: 0.7560 - val_mean_absolute_error: 0.6168\n",
      "Epoch 36/40\n",
      "89/89 [==============================] - 1s 15ms/step - loss: 0.2265 - mean_absolute_error: 0.2156 - val_loss: 0.7556 - val_mean_absolute_error: 0.6166\n",
      "Epoch 37/40\n",
      "89/89 [==============================] - 1s 16ms/step - loss: 0.2256 - mean_absolute_error: 0.2152 - val_loss: 0.7552 - val_mean_absolute_error: 0.6164\n",
      "Epoch 38/40\n",
      "89/89 [==============================] - 2s 18ms/step - loss: 0.2248 - mean_absolute_error: 0.2148 - val_loss: 0.7548 - val_mean_absolute_error: 0.6162\n",
      "Epoch 39/40\n",
      "89/89 [==============================] - 1s 14ms/step - loss: 0.2239 - mean_absolute_error: 0.2145 - val_loss: 0.7543 - val_mean_absolute_error: 0.6160\n",
      "Epoch 40/40\n",
      "89/89 [==============================] - 1s 14ms/step - loss: 0.2230 - mean_absolute_error: 0.2141 - val_loss: 0.7538 - val_mean_absolute_error: 0.6159\n",
      "25/25 [==============================] - 0s 5ms/step - loss: 0.7538 - mean_absolute_error: 0.6159\n"
     ]
    }
   ],
   "source": [
    "history = compile_and_fit(lstm_model, wide_step_multi_window)\n",
    "multi_val_performance['LSTM'] = lstm_model.evaluate(wide_step_multi_window.val)\n",
    "multi_test_performance['LSTM'] = lstm_model.evaluate(wide_step_multi_window.test, verbose=0)"
   ]
  },
  {
   "cell_type": "code",
   "execution_count": 163,
   "id": "e70b2b86",
   "metadata": {
    "scrolled": true
   },
   "outputs": [
    {
     "data": {
      "image/png": "[encoded data removed]",
      "text/plain": [
       "<Figure size 864x576 with 3 Axes>"
      ]
     },
     "metadata": {
      "needs_background": "light"
     },
     "output_type": "display_data"
    }
   ],
   "source": [
    "# multi_window.plot(multi_lstm_model)\n",
    "wide_step_multi_window.plot(lstm_model, plot_col='modal_beans')"
   ]
  },
  {
   "cell_type": "code",
   "execution_count": 164,
   "id": "d1a973b7",
   "metadata": {},
   "outputs": [
    {
     "data": {
      "text/plain": [
       "Total window size: 9\n",
       "Input indices: [0 1 2 3 4 5 6 7]\n",
       "Label indices: [3 4 5 6 7 8]\n",
       "Label column name(s): ['modal_beans', 'min_beans', 'max_beans', 'modal_ragi', 'min_ragi', 'max_ragi', 'modal_brinjal', 'min_brinjal', 'max_brinjal', 'Arrivals_beans', 'Arrivals_brinjal', 'Arrivals_ragi']"
      ]
     },
     "execution_count": 164,
     "metadata": {},
     "output_type": "execute_result"
    }
   ],
   "source": [
    "CONV_WIDTH = 3\n",
    "LABEL_WIDTH = 6\n",
    "INPUT_WIDTH = LABEL_WIDTH + (CONV_WIDTH - 1)\n",
    "wide_conv_window = WindowGenerator(\n",
    "    input_width=INPUT_WIDTH,\n",
    "    label_width=LABEL_WIDTH,\n",
    "    shift=1,\n",
    "    label_columns=label_columns)\n",
    "\n",
    "wide_conv_window"
   ]
  },
  {
   "cell_type": "markdown",
   "id": "d10361d4",
   "metadata": {},
   "source": [
    "\n",
    "conv_model = tf.keras.Sequential([\n",
    "    tf.keras.layers.Conv1D(filters=32,\n",
    "                           kernel_size=(CONV_WIDTH,),\n",
    "                           activation='relu'),\n",
    "    tf.keras.layers.Dense(units=32, activation='relu'),\n",
    "    tf.keras.layers.Dense(units=len(label_columns)),\n",
    "])"
   ]
  },
  {
   "cell_type": "markdown",
   "id": "33bbefd9",
   "metadata": {},
   "source": [
    "hist = compile_and_fit(conv_model, wide_conv_window)\n",
    "multi_val_performance['CONV'] = conv_model.evaluate(wide_conv_window.val)\n",
    "multi_test_performance['CONV'] = conv_model.evaluate(wide_conv_window.test, verbose=0)"
   ]
  },
  {
   "cell_type": "markdown",
   "id": "e7ee45af",
   "metadata": {},
   "source": [
    "wide_conv_window.plot(conv_model)"
   ]
  },
  {
   "cell_type": "code",
   "execution_count": 168,
   "id": "a1e20ea7",
   "metadata": {},
   "outputs": [],
   "source": [
    "CONV_WIDTH = 30\n",
    "OUT_STEPS=len(label_columns)\n",
    "multi_window = WindowGenerator(input_width=24,\n",
    "                               label_width=OUT_STEPS,\n",
    "                               shift=OUT_STEPS)"
   ]
  },
  {
   "cell_type": "code",
   "execution_count": 169,
   "id": "686c5327",
   "metadata": {},
   "outputs": [
    {
     "name": "stdout",
     "output_type": "stream",
     "text": [
      "Epoch 1/40\n",
      "88/88 [==============================] - 6s 21ms/step - loss: 0.9079 - mean_absolute_error: 0.7441 - val_loss: 1.9599 - val_mean_absolute_error: 1.0343\n",
      "Epoch 2/40\n",
      "88/88 [==============================] - 2s 17ms/step - loss: 0.6819 - mean_absolute_error: 0.6088 - val_loss: 1.5160 - val_mean_absolute_error: 0.9021\n",
      "Epoch 3/40\n",
      "88/88 [==============================] - 1s 16ms/step - loss: 0.5634 - mean_absolute_error: 0.5307 - val_loss: 1.3332 - val_mean_absolute_error: 0.8393\n",
      "Epoch 4/40\n",
      "88/88 [==============================] - 1s 16ms/step - loss: 0.5150 - mean_absolute_error: 0.4939 - val_loss: 1.2440 - val_mean_absolute_error: 0.8142\n",
      "Epoch 5/40\n",
      "88/88 [==============================] - 1s 16ms/step - loss: 0.4846 - mean_absolute_error: 0.4747 - val_loss: 1.1800 - val_mean_absolute_error: 0.7960\n",
      "Epoch 6/40\n",
      "88/88 [==============================] - 1s 17ms/step - loss: 0.4522 - mean_absolute_error: 0.4548 - val_loss: 1.1088 - val_mean_absolute_error: 0.7700\n",
      "Epoch 7/40\n",
      "88/88 [==============================] - 1s 17ms/step - loss: 0.4174 - mean_absolute_error: 0.4305 - val_loss: 1.0387 - val_mean_absolute_error: 0.7387\n",
      "Epoch 8/40\n",
      "88/88 [==============================] - 1s 17ms/step - loss: 0.3901 - mean_absolute_error: 0.4062 - val_loss: 0.9961 - val_mean_absolute_error: 0.7226\n",
      "Epoch 9/40\n",
      "88/88 [==============================] - 2s 18ms/step - loss: 0.3739 - mean_absolute_error: 0.3911 - val_loss: 0.9731 - val_mean_absolute_error: 0.7113\n",
      "Epoch 10/40\n",
      "88/88 [==============================] - 1s 17ms/step - loss: 0.3623 - mean_absolute_error: 0.3813 - val_loss: 0.9607 - val_mean_absolute_error: 0.7031\n",
      "Epoch 11/40\n",
      "88/88 [==============================] - 2s 17ms/step - loss: 0.3542 - mean_absolute_error: 0.3749 - val_loss: 0.9547 - val_mean_absolute_error: 0.7027\n",
      "Epoch 12/40\n",
      "88/88 [==============================] - 1s 17ms/step - loss: 0.3465 - mean_absolute_error: 0.3685 - val_loss: 0.9531 - val_mean_absolute_error: 0.7008\n",
      "Epoch 13/40\n",
      "88/88 [==============================] - 1s 17ms/step - loss: 0.3410 - mean_absolute_error: 0.3641 - val_loss: 0.9592 - val_mean_absolute_error: 0.7061\n",
      "Epoch 14/40\n",
      "88/88 [==============================] - 2s 17ms/step - loss: 0.3363 - mean_absolute_error: 0.3599 - val_loss: 0.9600 - val_mean_absolute_error: 0.7072\n",
      "25/25 [==============================] - 0s 6ms/step - loss: 0.9600 - mean_absolute_error: 0.7072\n"
     ]
    }
   ],
   "source": [
    "\n",
    "# multi_conv_model = tf.keras.Sequential([\n",
    "#     # Shape [batch, time, features] => [batch, CONV_WIDTH, features]\n",
    "#     tf.keras.layers.Lambda(lambda x: x[:, -CONV_WIDTH:, :]),\n",
    "#     # Shape => [batch, 1, conv_units]\n",
    "#     tf.keras.layers.Conv1D(256, activation='relu', kernel_size=(CONV_WIDTH)),\n",
    "#     # Shape => [batch, 1,  out_steps*features]\n",
    "#     tf.keras.layers.Dense(OUT_STEPS*num_features,\n",
    "#                           kernel_initializer=tf.initializers.zeros()),\n",
    "#     # Shape => [batch, out_steps, features]\n",
    "#     tf.keras.layers.Reshape([OUT_STEPS, num_features])\n",
    "# ])\n",
    "multi_lstm_model = tf.keras.Sequential([\n",
    "    # Shape [batch, time, features] => [batch, lstm_units].\n",
    "    # Adding more `lstm_units` just overfits more quickly.\n",
    "    tf.keras.layers.LSTM(32, return_sequences=False),\n",
    "    # Shape => [batch, out_steps*features].\n",
    "    tf.keras.layers.Dense(OUT_STEPS*num_features,\n",
    "                          kernel_initializer=tf.initializers.zeros()),\n",
    "    # Shape => [batch, out_steps, features].\n",
    "    tf.keras.layers.Reshape([OUT_STEPS, num_features])\n",
    "])\n",
    "\n",
    "history = compile_and_fit(multi_lstm_model, multi_window)\n",
    "multi_val_performance['MLSTM'] = multi_lstm_model.evaluate(multi_window.val)\n",
    "multi_test_performance['MLSTM'] = multi_lstm_model.evaluate(multi_window.test, verbose=0)"
   ]
  },
  {
   "cell_type": "code",
   "execution_count": 125,
   "id": "e9e67157",
   "metadata": {
    "scrolled": true
   },
   "outputs": [
    {
     "data": {
      "text/plain": [
       "<KerasTensor: shape=(None, 24, 26) dtype=float32 (created by layer 'lstm_13_input')>"
      ]
     },
     "execution_count": 125,
     "metadata": {},
     "output_type": "execute_result"
    }
   ],
   "source": [
    "multi_lstm_model.input"
   ]
  },
  {
   "cell_type": "code",
   "execution_count": 170,
   "id": "12ddfa7c",
   "metadata": {
    "scrolled": true
   },
   "outputs": [],
   "source": [
    "trainDf1 = pd.read_csv('./dataset/final_dataset', index_col=0)\n",
    "trainDf1.index = pd.to_datetime(trainDf1.index, format='%Y.%m.%d %H:%M:%S')\n",
    "timestamp_s = trainDf1.index.map(pd.Timestamp.timestamp)\n",
    "day = 24*60*60\n",
    "# day = 1\n",
    "month = 12*day\n",
    "year = (365.2425)*day\n",
    "\n",
    "trainDf1['Month sin'] = np.sin(timestamp_s * (2 * np.pi / month))\n",
    "trainDf1['Month cos'] = np.cos(timestamp_s * (2 * np.pi / month))\n",
    "trainDf1['Year sin'] = np.sin(timestamp_s * (2 * np.pi / year))\n",
    "trainDf1['Year cos'] = np.cos(timestamp_s * (2 * np.pi / year))\n",
    "\n",
    "wv = trainDf1.pop('windspeedKmph')\n",
    "wd_rad = trainDf1.pop('winddirDegree')*np.pi / 180\n",
    "\n",
    "# Calculate the wind x and y components.\n",
    "trainDf1['Wx'] = wv*np.cos(wd_rad)\n",
    "trainDf1['Wy'] = wv*np.sin(wd_rad)\n",
    "\n",
    "trainDf1 = (trainDf1 - train_mean) / train_std\n",
    "ip = np.array(trainDf1[trainDf1.shape[0]-12:])\n",
    "ip = np.expand_dims(ip, axis = 0)\n",
    "\n",
    "pred = multi_lstm_model.predict(ip)\n",
    "# ip.shape\n"
   ]
  },
  {
   "cell_type": "code",
   "execution_count": 171,
   "id": "b2bb2357",
   "metadata": {
    "scrolled": true
   },
   "outputs": [
    {
     "data": {
      "text/plain": [
       "array([[[-3.71975228e-02, -7.05301911e-02, -1.01940893e-02,\n",
       "          7.51091361e-01,  8.00484568e-02,  1.09191686e-01,\n",
       "          1.83052197e-01, -4.09153968e-01, -1.17982309e-02,\n",
       "         -4.28289585e-02,  2.37141568e-02,  6.70216978e-01,\n",
       "         -6.09202385e-01, -2.34489925e-02,  3.55170071e-01,\n",
       "          1.13698438e-01,  3.37542862e-01, -4.44347113e-02,\n",
       "          1.33280247e-01,  9.14903805e-02,  3.64886731e-01,\n",
       "          3.76287431e-01, -5.85669279e-01, -2.30991912e+00,\n",
       "         -6.81786835e-01,  2.79917717e-01],\n",
       "        [-2.18345895e-02, -5.06318435e-02,  3.16813216e-03,\n",
       "          6.89503551e-01,  7.77530968e-02,  1.03150561e-01,\n",
       "          1.87945127e-01, -3.75307113e-01, -9.13124345e-03,\n",
       "         -4.04168554e-02,  2.31554378e-02,  6.22860432e-01,\n",
       "         -5.99857867e-01, -5.07930294e-02,  2.89321929e-01,\n",
       "          6.76761419e-02,  2.94739336e-01, -7.64467418e-02,\n",
       "          8.11887830e-02,  6.74532279e-02,  3.90212655e-01,\n",
       "          3.60913962e-01, -1.66708767e+00, -1.75105464e+00,\n",
       "         -6.78343654e-01,  2.91074514e-01],\n",
       "        [-2.85537913e-03, -2.99644955e-02,  2.21354216e-02,\n",
       "          6.49614930e-01,  7.56446570e-02,  1.00140333e-01,\n",
       "          1.90135404e-01, -3.12853575e-01, -9.21452884e-04,\n",
       "         -3.16920355e-02,  2.85593774e-02,  6.10846221e-01,\n",
       "         -5.91974258e-01, -8.18514675e-02,  2.32806504e-01,\n",
       "          1.48157701e-02,  2.59260982e-01, -1.08950198e-01,\n",
       "          1.41066574e-02,  5.53097315e-02,  3.97426605e-01,\n",
       "          3.51284146e-01, -2.27240276e+00, -6.93457305e-01,\n",
       "         -6.74699843e-01,  3.02117854e-01],\n",
       "        [ 1.86439790e-02, -4.42516245e-03,  4.23024483e-02,\n",
       "          6.28979087e-01,  7.00241029e-02,  9.78766158e-02,\n",
       "          1.87331766e-01, -2.79255092e-01,  2.63660904e-02,\n",
       "         -4.03266400e-03,  5.42140454e-02,  5.92746258e-01,\n",
       "         -5.77491283e-01, -9.86822546e-02,  1.79026008e-01,\n",
       "         -4.98351008e-02,  2.24492490e-01, -1.39056236e-01,\n",
       "         -8.13248008e-02,  5.11287451e-02,  4.00660038e-01,\n",
       "          3.52081358e-01, -2.31013036e+00,  5.84905624e-01,\n",
       "         -6.70852721e-01,  3.13044012e-01],\n",
       "        [ 4.44152020e-02,  2.62178332e-02,  6.63495064e-02,\n",
       "          6.12967074e-01,  6.36841208e-02,  9.68242809e-02,\n",
       "          1.80247054e-01, -2.61913538e-01,  6.91585913e-02,\n",
       "          4.28083912e-02,  9.49839503e-02,  5.72098672e-01,\n",
       "         -5.73689699e-01, -1.05747439e-01,  1.46332622e-01,\n",
       "         -1.01738468e-01,  1.98477820e-01, -1.55060321e-01,\n",
       "         -1.58795059e-01,  5.33025004e-02,  3.93018752e-01,\n",
       "          3.62374067e-01, -1.75114572e+00,  1.66618633e+00,\n",
       "         -6.66801691e-01,  3.23852926e-01],\n",
       "        [ 7.52889216e-02,  5.82371615e-02,  9.56111029e-02,\n",
       "          5.98650575e-01,  5.96792363e-02,  9.73870456e-02,\n",
       "          1.73340589e-01, -2.34237358e-01,  1.25881299e-01,\n",
       "          1.00513011e-01,  1.51639834e-01,  5.55466652e-01,\n",
       "         -5.66044807e-01, -1.06535316e-01,  1.24580890e-01,\n",
       "         -1.37610376e-01,  1.80827290e-01, -1.64455041e-01,\n",
       "         -2.11229756e-01,  5.64180315e-02,  3.83253783e-01,\n",
       "          3.73929441e-01, -6.93354607e-01,  2.27144408e+00,\n",
       "         -6.62544966e-01,  3.34540606e-01],\n",
       "        [ 1.04815274e-01,  8.68846029e-02,  1.23919688e-01,\n",
       "          5.81096649e-01,  5.57138361e-02,  9.67863053e-02,\n",
       "          1.66160315e-01, -2.39798784e-01,  1.82300210e-01,\n",
       "          1.59152448e-01,  2.07560182e-01,  5.58475435e-01,\n",
       "         -5.77046871e-01, -1.10580690e-01,  1.19143404e-01,\n",
       "         -1.39847502e-01,  1.76891774e-01, -1.71625063e-01,\n",
       "         -2.11724460e-01,  6.04416952e-02,  3.77548665e-01,\n",
       "          3.87776434e-01,  5.85185170e-01,  2.30915356e+00,\n",
       "         -6.58081532e-01,  3.45105886e-01],\n",
       "        [ 1.24934137e-01,  1.03507176e-01,  1.43158212e-01,\n",
       "          5.53863287e-01,  5.05103357e-02,  9.41274166e-02,\n",
       "          1.55742884e-01, -2.39609987e-01,  2.36804098e-01,\n",
       "          2.14433819e-01,  2.63452172e-01,  5.25342822e-01,\n",
       "         -6.00747585e-01, -1.12755805e-01,  1.22900143e-01,\n",
       "         -1.10834569e-01,  1.84287906e-01, -1.74041793e-01,\n",
       "         -2.27167010e-01,  7.12816715e-02,  3.86033148e-01,\n",
       "          3.97565782e-01,  1.66662860e+00,  1.75015450e+00,\n",
       "         -6.53410614e-01,  3.55547607e-01],\n",
       "        [ 1.35917023e-01,  1.12032332e-01,  1.53362870e-01,\n",
       "          5.32289505e-01,  4.75717708e-02,  9.21342373e-02,\n",
       "          1.49198934e-01, -2.68855512e-01,  2.73685515e-01,\n",
       "          2.52182782e-01,  3.01101089e-01,  5.07755816e-01,\n",
       "         -6.20178163e-01, -1.23136103e-01,  1.28486529e-01,\n",
       "         -7.31777400e-02,  1.97875768e-01, -1.81553841e-01,\n",
       "         -1.81590885e-01,  8.50968882e-02,  3.94698262e-01,\n",
       "          4.08414394e-01,  2.27196622e+00,  6.92477465e-01,\n",
       "         -6.48530066e-01,  3.65863293e-01],\n",
       "        [ 1.41699001e-01,  1.15682743e-01,  1.58370212e-01,\n",
       "          5.19539595e-01,  4.60117050e-02,  8.91498774e-02,\n",
       "          1.46845490e-01, -3.05074126e-01,  2.94798106e-01,\n",
       "          2.72270888e-01,  3.23412746e-01,  5.04206240e-01,\n",
       "         -6.34705365e-01, -1.37444451e-01,  1.29966646e-01,\n",
       "         -4.19867113e-02,  2.09651619e-01, -1.90492719e-01,\n",
       "         -1.39309138e-01,  1.00768492e-01,  4.20407593e-01,\n",
       "          4.12208378e-01,  2.30968952e+00, -5.85743427e-01,\n",
       "         -6.43440485e-01,  3.76050562e-01],\n",
       "        [ 1.39471009e-01,  1.13377489e-01,  1.55629843e-01,\n",
       "          5.09944320e-01,  4.50165831e-02,  8.42256546e-02,\n",
       "          1.47962302e-01, -3.59383285e-01,  2.99117625e-01,\n",
       "          2.76054561e-01,  3.27769876e-01,  5.01496434e-01,\n",
       "         -6.44489646e-01, -1.45238131e-01,  1.33970171e-01,\n",
       "         -1.17427595e-02,  2.24762678e-01, -1.97539032e-01,\n",
       "         -8.08750838e-02,  1.11713313e-01,  4.58180994e-01,\n",
       "          4.15626556e-01,  1.75062585e+00, -1.66698265e+00,\n",
       "         -6.38139784e-01,  3.86108786e-01],\n",
       "        [ 1.26419470e-01,  1.01110198e-01,  1.43360719e-01,\n",
       "          5.07356465e-01,  4.41770069e-02,  7.89268017e-02,\n",
       "          1.51651874e-01, -3.58354479e-01,  2.92185396e-01,\n",
       "          2.68407643e-01,  3.20226401e-01,  4.95093703e-01,\n",
       "         -6.43185318e-01, -1.47893965e-01,  1.36133566e-01,\n",
       "         -3.01457942e-04,  2.36262023e-01, -2.04527855e-01,\n",
       "         -4.27599400e-02,  1.14227824e-01,  4.72094178e-01,\n",
       "          4.17069793e-01,  6.92788541e-01, -2.27219868e+00,\n",
       "         -6.32628083e-01,  3.96036834e-01]]], dtype=float32)"
      ]
     },
     "execution_count": 171,
     "metadata": {},
     "output_type": "execute_result"
    }
   ],
   "source": [
    "pred"
   ]
  },
  {
   "cell_type": "code",
   "execution_count": 172,
   "id": "d37147f3",
   "metadata": {
    "scrolled": true
   },
   "outputs": [
    {
     "name": "stderr",
     "output_type": "stream",
     "text": [
      "WARNING:absl:Found untraced functions such as lstm_cell_14_layer_call_fn, lstm_cell_14_layer_call_and_return_conditional_losses, lstm_cell_14_layer_call_fn, lstm_cell_14_layer_call_and_return_conditional_losses, lstm_cell_14_layer_call_and_return_conditional_losses while saving (showing 5 of 5). These functions will not be directly callable after loading.\n"
     ]
    },
    {
     "name": "stdout",
     "output_type": "stream",
     "text": [
      "INFO:tensorflow:Assets written to: ./model/price_lstm1/assets\n"
     ]
    },
    {
     "name": "stderr",
     "output_type": "stream",
     "text": [
      "INFO:tensorflow:Assets written to: ./model/price_lstm1/assets\n",
      "WARNING:absl:<keras.layers.recurrent.LSTMCell object at 0x7fd9c69342e0> has the same name 'LSTMCell' as a built-in Keras object. Consider renaming <class 'keras.layers.recurrent.LSTMCell'> to avoid naming conflicts when loading with `tf.keras.models.load_model`. If renaming is not possible, pass the object in the `custom_objects` parameter of the load function.\n",
      "WARNING:absl:Found untraced functions such as lstm_cell_15_layer_call_fn, lstm_cell_15_layer_call_and_return_conditional_losses, lstm_cell_15_layer_call_fn, lstm_cell_15_layer_call_and_return_conditional_losses, lstm_cell_15_layer_call_and_return_conditional_losses while saving (showing 5 of 5). These functions will not be directly callable after loading.\n"
     ]
    },
    {
     "name": "stdout",
     "output_type": "stream",
     "text": [
      "INFO:tensorflow:Assets written to: ./model/price_multi_lstm/assets\n"
     ]
    },
    {
     "name": "stderr",
     "output_type": "stream",
     "text": [
      "INFO:tensorflow:Assets written to: ./model/price_multi_lstm/assets\n",
      "WARNING:absl:<keras.layers.recurrent.LSTMCell object at 0x7fd9d8c16820> has the same name 'LSTMCell' as a built-in Keras object. Consider renaming <class 'keras.layers.recurrent.LSTMCell'> to avoid naming conflicts when loading with `tf.keras.models.load_model`. If renaming is not possible, pass the object in the `custom_objects` parameter of the load function.\n"
     ]
    },
    {
     "name": "stdout",
     "output_type": "stream",
     "text": [
      "INFO:tensorflow:Assets written to: ./model/price_conv/assets\n"
     ]
    },
    {
     "name": "stderr",
     "output_type": "stream",
     "text": [
      "INFO:tensorflow:Assets written to: ./model/price_conv/assets\n"
     ]
    }
   ],
   "source": [
    "lstm_model.save('./model/price_lstm1')\n",
    "multi_lstm_model.save('./model/price_multi_lstm')\n",
    "conv_model.save('./model/price_conv')"
   ]
  },
  {
   "cell_type": "code",
   "execution_count": 173,
   "id": "f73b94d8",
   "metadata": {
    "scrolled": true
   },
   "outputs": [
    {
     "data": {
      "image/png": "[encoded data removed]",
      "text/plain": [
       "<Figure size 432x288 with 1 Axes>"
      ]
     },
     "metadata": {
      "needs_background": "light"
     },
     "output_type": "display_data"
    }
   ],
   "source": [
    "# multi_val_performance['MLSTM'] = multi_lstm_model.evaluate(multi_window.val)\n",
    "# multi_test_performance['MLSTM'] = multi_lstm_model.evaluate(multi_window.test, verbose=0)\n",
    "x = np.arange(len(multi_test_performance))\n",
    "width = 0.3\n",
    "\n",
    "metric_name = 'mean_absolute_error'\n",
    "metric_index = lstm_model.metrics_names.index('mean_absolute_error')\n",
    "val_mae = [v[metric_index] for v in multi_val_performance.values()]\n",
    "test_mae = [v[metric_index] for v in multi_test_performance.values()]\n",
    "\n",
    "plt.bar(x - 0.17, val_mae, width, label='Validation')\n",
    "plt.bar(x + 0.17, test_mae, width, label='Test')\n",
    "plt.xticks(ticks=x, labels=multi_test_performance.keys(),\n",
    "           rotation=45)\n",
    "plt.ylabel('MAE (average over all outputs)')\n",
    "_ = plt.legend()"
   ]
  },
  {
   "cell_type": "code",
   "execution_count": 184,
   "id": "18af0023",
   "metadata": {},
   "outputs": [
    {
     "name": "stdout",
     "output_type": "stream",
     "text": [
      "3100.0\n",
      "3000.0\n",
      "3500.0\n",
      "3500.0\n",
      "3500.0\n",
      "3600.0\n",
      "3600.0\n",
      "3600.0\n",
      "3000.0\n",
      "3400.0\n"
     ]
    }
   ],
   "source": [
    "for i in df.modal_brinjal[df.shape[0]-10:]:\n",
    "    print(i)"
   ]
  },
  {
   "cell_type": "code",
   "execution_count": 195,
   "id": "4d21a31e",
   "metadata": {},
   "outputs": [
    {
     "data": {
      "text/plain": [
       "'2020-01-31'"
      ]
     },
     "execution_count": 195,
     "metadata": {},
     "output_type": "execute_result"
    }
   ],
   "source": [
    "df.index.max().strftime(\"%Y-%m-%d\")"
   ]
  },
  {
   "cell_type": "code",
   "execution_count": null,
   "id": "042be836",
   "metadata": {},
   "outputs": [],
   "source": []
  }
 ],
 "metadata": {
  "kernelspec": {
   "display_name": "Python 3 (ipykernel)",
   "language": "python",
   "name": "python3"
  },
  "language_info": {
   "codemirror_mode": {
    "name": "ipython",
    "version": 3
   },
   "file_extension": ".py",
   "mimetype": "text/x-python",
   "name": "python",
   "nbconvert_exporter": "python",
   "pygments_lexer": "ipython3",
   "version": "3.9.7"
  }
 },
 "nbformat": 4,
 "nbformat_minor": 5
}
